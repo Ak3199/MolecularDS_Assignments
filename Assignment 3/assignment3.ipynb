{
 "cells": [
  {
   "cell_type": "markdown",
   "metadata": {},
   "source": [
    "### Importing the required dependencies"
   ]
  },
  {
   "cell_type": "code",
   "execution_count": 3,
   "metadata": {},
   "outputs": [],
   "source": [
    "from rdkit import Chem\n",
    "from rdkit.Chem import Descriptors, AllChem\n",
    "from rdkit.Chem.EState import Fingerprinter\n",
    "from sklearn.model_selection import train_test_split\n",
    "from sklearn.ensemble import RandomForestRegressor\n",
    "from sklearn.preprocessing import StandardScaler\n",
    "from sklearn.metrics import mean_squared_error, r2_score\n",
    "import xgboost as xgb\n",
    "import numpy as np\n",
    "import pandas as pd"
   ]
  },
  {
   "cell_type": "code",
   "execution_count": 12,
   "metadata": {},
   "outputs": [],
   "source": [
    "def preprocess_data(smiles_list, temperatures):\n",
    "    \"\"\"Convert SMILES to RDKit molecules and validate data\"\"\"\n",
    "    molecules = []\n",
    "    valid_temps = []\n",
    "    \n",
    "    for smiles, temp in zip(smiles_list, temperatures):\n",
    "        mol = Chem.MolFromSmiles(smiles)\n",
    "        if mol is not None:\n",
    "            molecules.append(mol)\n",
    "            valid_temps.append(temp)\n",
    "    \n",
    "    return molecules, valid_temps"
   ]
  },
  {
   "cell_type": "code",
   "execution_count": 13,
   "metadata": {},
   "outputs": [],
   "source": [
    "def extract_chemical_features(molecules):\n",
    "    \"\"\"Extract chemical descriptors from molecules\"\"\"\n",
    "    features = []\n",
    "    for mol in molecules:\n",
    "        descriptor = {\n",
    "            'MolWt': Descriptors.MolWt(mol),\n",
    "            'LogP': Descriptors.MolLogP(mol),\n",
    "            'TPSA': Descriptors.TPSA(mol),\n",
    "            'HBD': Descriptors.NumHDonors(mol),\n",
    "            'HBA': Descriptors.NumHAcceptors(mol),\n",
    "            'RotableBonds': Descriptors.NumRotatableBonds(mol),\n",
    "            'AromaticRings': Descriptors.NumAromaticRings(mol),\n",
    "            'HeavyAtoms': Descriptors.HeavyAtomCount(mol)\n",
    "        }\n",
    "        features.append(descriptor)\n",
    "    return pd.DataFrame(features)"
   ]
  },
  {
   "cell_type": "code",
   "execution_count": 14,
   "metadata": {},
   "outputs": [],
   "source": [
    "def extract_topological_features(molecules):\n",
    "    \"\"\"Extract topological descriptors from molecules\"\"\"\n",
    "    features = []\n",
    "    for mol in molecules:\n",
    "        descriptor = {\n",
    "            'BertzCT': Descriptors.BertzCT(mol),\n",
    "            'Chi0v': Descriptors.Chi0v(mol),\n",
    "            'Chi1v': Descriptors.Chi1v(mol),\n",
    "            'Chi2v': Descriptors.Chi2v(mol),\n",
    "            'HallKierAlpha': Descriptors.HallKierAlpha(mol),\n",
    "            'Kappa1': Descriptors.Kappa1(mol),\n",
    "            'Kappa2': Descriptors.Kappa2(mol),\n",
    "            'Kappa3': Descriptors.Kappa3(mol)\n",
    "        }\n",
    "        features.append(descriptor)\n",
    "    return pd.DataFrame(features)"
   ]
  },
  {
   "cell_type": "code",
   "execution_count": 15,
   "metadata": {},
   "outputs": [],
   "source": [
    "def split_and_scale_data(X, y):\n",
    "    \"\"\"Split data into train, validation, test sets and scale features\"\"\"\n",
    "    # First split: separate test set\n",
    "    X_temp, X_test, y_temp, y_test = train_test_split(X, y, test_size=0.2, random_state=42)\n",
    "    \n",
    "    # Second split: separate train and validation\n",
    "    X_train, X_val, y_train, y_val = train_test_split(X_temp, y_temp, test_size=0.25, random_state=42)\n",
    "    \n",
    "    # Scale features\n",
    "    scaler = StandardScaler()\n",
    "    X_train_scaled = scaler.fit_transform(X_train)\n",
    "    X_val_scaled = scaler.transform(X_val)\n",
    "    X_test_scaled = scaler.transform(X_test)\n",
    "    \n",
    "    return (X_train_scaled, X_val_scaled, X_test_scaled, \n",
    "            y_train, y_val, y_test, scaler)"
   ]
  },
  {
   "cell_type": "code",
   "execution_count": 16,
   "metadata": {},
   "outputs": [],
   "source": [
    "def get_model(model_name, **params):\n",
    "    \"\"\"Create model based on name\"\"\"\n",
    "    if model_name.lower() == 'random_forest':\n",
    "        default_params = {'n_estimators': 100,'random_state': 42}\n",
    "        default_params.update(params)\n",
    "        return RandomForestRegressor(**default_params)\n",
    "    \n",
    "    elif model_name.lower() == 'xgboost':\n",
    "        default_params = {'n_estimators': 100,'learning_rate': 0.1,'random_state': 42}\n",
    "        default_params.update(params)\n",
    "        return xgb.XGBRegressor(**default_params)\n",
    "    \n",
    "    else:\n",
    "        raise ValueError(f\"Unsupported model: {model_name}\")"
   ]
  },
  {
   "cell_type": "code",
   "execution_count": 17,
   "metadata": {},
   "outputs": [],
   "source": [
    "def evaluate_model(model, X_train, X_val, X_test, y_train, y_val, y_test):\n",
    "    \"\"\"Train model and evaluate performance\"\"\"\n",
    "    # Train model\n",
    "    model.fit(X_train, y_train)\n",
    "    \n",
    "    # Make predictions\n",
    "    train_pred = model.predict(X_train)\n",
    "    val_pred = model.predict(X_val)\n",
    "    test_pred = model.predict(X_test)\n",
    "    \n",
    "    # Calculate metrics\n",
    "    results = {\n",
    "        'train': {'r2': r2_score(y_train, train_pred),'rmse': np.sqrt(mean_squared_error(y_train, train_pred))},\n",
    "        'validation': {'r2': r2_score(y_val, val_pred),'rmse': np.sqrt(mean_squared_error(y_val, val_pred))},\n",
    "        'test': {'r2': r2_score(y_test, test_pred),'rmse': np.sqrt(mean_squared_error(y_test, test_pred))}\n",
    "    }\n",
    "    \n",
    "    return results"
   ]
  },
  {
   "cell_type": "code",
   "execution_count": 18,
   "metadata": {},
   "outputs": [],
   "source": [
    "data = pd.read_csv(\"TgDataSet.csv\")\n",
    "data = data[['Glass Transition Temperature', 'SMILES String']]"
   ]
  },
  {
   "cell_type": "code",
   "execution_count": 19,
   "metadata": {},
   "outputs": [
    {
     "data": {
      "text/html": [
       "<div>\n",
       "<style scoped>\n",
       "    .dataframe tbody tr th:only-of-type {\n",
       "        vertical-align: middle;\n",
       "    }\n",
       "\n",
       "    .dataframe tbody tr th {\n",
       "        vertical-align: top;\n",
       "    }\n",
       "\n",
       "    .dataframe thead th {\n",
       "        text-align: right;\n",
       "    }\n",
       "</style>\n",
       "<table border=\"1\" class=\"dataframe\">\n",
       "  <thead>\n",
       "    <tr style=\"text-align: right;\">\n",
       "      <th></th>\n",
       "      <th>Glass Transition Temperature</th>\n",
       "      <th>SMILES String</th>\n",
       "    </tr>\n",
       "  </thead>\n",
       "  <tbody>\n",
       "    <tr>\n",
       "      <th>0</th>\n",
       "      <td>279.0</td>\n",
       "      <td>C=CC(=O)OCc1ccccc1</td>\n",
       "    </tr>\n",
       "    <tr>\n",
       "      <th>1</th>\n",
       "      <td>383.0</td>\n",
       "      <td>C=CC(=O)Oc2ccc(c1ccccc1)cc2</td>\n",
       "    </tr>\n",
       "    <tr>\n",
       "      <th>2</th>\n",
       "      <td>219.0</td>\n",
       "      <td>CCCCOC(=O)C=C</td>\n",
       "    </tr>\n",
       "    <tr>\n",
       "      <th>3</th>\n",
       "      <td>250.0</td>\n",
       "      <td>CC(OC(=O)C=C)CC</td>\n",
       "    </tr>\n",
       "    <tr>\n",
       "      <th>4</th>\n",
       "      <td>345.0</td>\n",
       "      <td>C=CC(=O)Oc1ccccc1C(C)(C)C</td>\n",
       "    </tr>\n",
       "  </tbody>\n",
       "</table>\n",
       "</div>"
      ],
      "text/plain": [
       "   Glass Transition Temperature                SMILES String\n",
       "0                         279.0           C=CC(=O)OCc1ccccc1\n",
       "1                         383.0  C=CC(=O)Oc2ccc(c1ccccc1)cc2\n",
       "2                         219.0                CCCCOC(=O)C=C\n",
       "3                         250.0              CC(OC(=O)C=C)CC\n",
       "4                         345.0    C=CC(=O)Oc1ccccc1C(C)(C)C"
      ]
     },
     "execution_count": 19,
     "metadata": {},
     "output_type": "execute_result"
    }
   ],
   "source": [
    "data.head()"
   ]
  },
  {
   "cell_type": "code",
   "execution_count": 20,
   "metadata": {},
   "outputs": [],
   "source": [
    "molecules, temperatures = preprocess_data(data['SMILES String'], data['Glass Transition Temperature'])"
   ]
  },
  {
   "cell_type": "code",
   "execution_count": null,
   "metadata": {},
   "outputs": [],
   "source": [
    "chemical_features = extract_chemical_features(molecules)\n",
    "topological_features = extract_topological_features(molecules)"
   ]
  },
  {
   "cell_type": "code",
   "execution_count": 23,
   "metadata": {},
   "outputs": [
    {
     "name": "stdout",
     "output_type": "stream",
     "text": [
      "\n",
      "Chemical Features Results:\n",
      "\n",
      "RANDOM_FOREST Results:\n",
      "Train:\n",
      "R^2 score: 0.976\n",
      "RMSE: 16.487\n",
      "Validation:\n",
      "R^2 score: 0.865\n",
      "RMSE: 35.901\n",
      "Test:\n",
      "R^2 score: 0.891\n",
      "RMSE: 34.606\n",
      "\n",
      "XGBOOST Results:\n",
      "Train:\n",
      "R^2 score: 0.989\n",
      "RMSE: 11.116\n",
      "Validation:\n",
      "R^2 score: 0.850\n",
      "RMSE: 37.786\n",
      "Test:\n",
      "R^2 score: 0.877\n",
      "RMSE: 36.759\n",
      "\n",
      "Topological Features Results:\n",
      "\n",
      "RANDOM_FOREST Results:\n",
      "Train:\n",
      "R^2 score: 0.973\n",
      "RMSE: 17.483\n",
      "Validation:\n",
      "R^2 score: 0.769\n",
      "RMSE: 46.867\n",
      "Test:\n",
      "R^2 score: 0.823\n",
      "RMSE: 44.058\n",
      "\n",
      "XGBOOST Results:\n",
      "Train:\n",
      "R^2 score: 0.992\n",
      "RMSE: 9.399\n",
      "Validation:\n",
      "R^2 score: 0.717\n",
      "RMSE: 51.951\n",
      "Test:\n",
      "R^2 score: 0.813\n",
      "RMSE: 45.254\n"
     ]
    }
   ],
   "source": [
    "for features, feature_type in [(chemical_features, \"Chemical\"), (topological_features, \"Topological\")]:\n",
    "    print(f\"\\n{feature_type} Features Results:\")\n",
    "\n",
    "    splits = split_and_scale_data(features, temperatures)\n",
    "    X_train, X_val, X_test, y_train, y_val, y_test, scaler = splits\n",
    "\n",
    "    for model_name in ['random_forest', 'xgboost']:\n",
    "        print(f\"\\n{model_name.upper()} Results:\")\n",
    "        model = get_model(model_name)\n",
    "        results = evaluate_model(model, X_train, X_val, X_test, y_train, y_val, y_test)\n",
    "\n",
    "        for split_name, metrics in results.items():\n",
    "            print(f\"{split_name.capitalize()}:\")\n",
    "            print(f\"R^2 score: {metrics['r2']:.3f}\")\n",
    "            print(f\"RMSE: {metrics['rmse']:.3f}\")"
   ]
  },
  {
   "cell_type": "code",
   "execution_count": null,
   "metadata": {},
   "outputs": [],
   "source": []
  }
 ],
 "metadata": {
  "kernelspec": {
   "display_name": ".venv",
   "language": "python",
   "name": "python3"
  },
  "language_info": {
   "codemirror_mode": {
    "name": "ipython",
    "version": 3
   },
   "file_extension": ".py",
   "mimetype": "text/x-python",
   "name": "python",
   "nbconvert_exporter": "python",
   "pygments_lexer": "ipython3",
   "version": "3.13.2"
  }
 },
 "nbformat": 4,
 "nbformat_minor": 2
}
