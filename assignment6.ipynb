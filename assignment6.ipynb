{
 "cells": [
  {
   "cell_type": "code",
   "execution_count": 23,
   "metadata": {},
   "outputs": [],
   "source": [
    "import pandas as pd\n",
    "import numpy as np\n",
    "import matplotlib.pyplot as plt\n",
    "import seaborn as sns\n",
    "from rdkit import Chem\n",
    "from rdkit.Chem import Draw, QED, Descriptors, AllChem\n",
    "from rdkit import DataStructs\n",
    "from sklearn.model_selection import train_test_split\n",
    "import tensorflow as tf\n",
    "from tensorflow.keras.models import Sequential, Model, load_model\n",
    "from tensorflow.keras.layers import Dense, LSTM, Embedding, Dropout, Input\n",
    "from tensorflow.keras.optimizers import Adam\n",
    "from tensorflow.keras.callbacks import ModelCheckpoint, EarlyStopping\n",
    "from tensorflow.keras.utils import to_categorical\n",
    "from tqdm import tqdm\n",
    "import warnings\n",
    "warnings.filterwarnings(\"ignore\")\n"
   ]
  },
  {
   "cell_type": "code",
   "execution_count": 24,
   "metadata": {},
   "outputs": [],
   "source": [
    "def load_smiles_dataset(file_path):\n",
    "    \"\"\"Load the dataset containing SMILES representations.\"\"\"\n",
    "    try:\n",
    "        smiles_data = pd.read_csv(file_path)\n",
    "        print(f\"Dataset loaded successfully with {len(smiles_data)} molecules.\")\n",
    "        return smiles_data\n",
    "    except Exception as e:\n",
    "        print(f\"Error loading dataset: {e}\")\n",
    "        return None\n",
    "    \n",
    "def preprocess_smiles(smiles_list):\n",
    "    \"\"\"Convert SMILES strings into numerical representations for model training.\"\"\"\n",
    "    # Add start and end tokens to each SMILES string\n",
    "    processed_smiles = ['<' + s + '>' for s in smiles_list]\n",
    "    \n",
    "    # Create a character set from all SMILES strings\n",
    "    all_chars = set()\n",
    "    for smiles in processed_smiles:\n",
    "        all_chars.update(smiles)\n",
    "    \n",
    "    # Create mapping dictionaries\n",
    "    char_to_idx = {c: i for i, c in enumerate(sorted(all_chars))}\n",
    "    idx_to_char = {i: c for i, c in enumerate(sorted(all_chars))}\n",
    "    \n",
    "    # Get maximum length for padding\n",
    "    max_length = max(len(s) for s in processed_smiles)\n",
    "    \n",
    "    # Create input and target sequences for training\n",
    "    X = []\n",
    "    y = []\n",
    "    \n",
    "    for smiles in processed_smiles:\n",
    "        # Convert characters to indices\n",
    "        char_indices = [char_to_idx[c] for c in smiles]\n",
    "        \n",
    "        # Create input-target pairs for each position\n",
    "        for i in range(1, len(char_indices)):\n",
    "            X.append(char_indices[:i])\n",
    "            y.append(char_indices[i])\n",
    "    \n",
    "    # Pad sequences to the same length\n",
    "    X_padded = tf.keras.preprocessing.sequence.pad_sequences(X, maxlen=max_length-1, padding='pre')\n",
    "    \n",
    "    # One-hot encode the target values\n",
    "    y_onehot = to_categorical(y, num_classes=len(char_to_idx))\n",
    "    \n",
    "    return X_padded, y_onehot, char_to_idx, idx_to_char, max_length"
   ]
  },
  {
   "cell_type": "code",
   "execution_count": 34,
   "metadata": {},
   "outputs": [],
   "source": [
    "import tensorflow as tf\n",
    "from tensorflow.keras.layers import GRU, Dense, Attention, Embedding\n",
    "from tensorflow.keras.models import Sequential\n",
    "\n",
    "def create_model(vocab_size, max_length):\n",
    "    model = Sequential([\n",
    "        Embedding(vocab_size, 64, input_length=max_length-1),\n",
    "        LSTM(128, return_sequences=True),\n",
    "        Dropout(0.2),\n",
    "        LSTM(128),\n",
    "        Dense(vocab_size, activation='softmax')\n",
    "    ])\n",
    "    model.compile(loss='sparse_categorical_crossentropy', optimizer='adam', metrics=['accuracy'])\n",
    "    return model"
   ]
  },
  {
   "cell_type": "code",
   "execution_count": 35,
   "metadata": {},
   "outputs": [],
   "source": [
    "import numpy as np\n",
    "from rdkit import Chem\n",
    "from rdkit.Chem import SanitizeFlags\n",
    "\n",
    "def generate_molecule(seed_char, model, char_to_idx, idx_to_char, max_length, temp=1.0, max_retries=3):\n",
    "    \"\"\"Generate a valid molecule with enhanced chemical constraints.\"\"\"\n",
    "    valid_chars = {'B', 'C', 'N', 'O', 'F', 'P', 'S', 'Cl', 'Br', 'I', \n",
    "                  '=', '#', '(', ')', '[', ']', '@', '-', '+', '\\\\', '/', '.'}\n",
    "    \n",
    "    for _ in range(max_retries):\n",
    "        generated = seed_char\n",
    "        valid = True\n",
    "        \n",
    "        for i in range(max_length):\n",
    "            # Convert sequence to model input\n",
    "            x_pred = np.zeros((1, max_length-1))\n",
    "            for t, char in enumerate(generated):\n",
    "                if t < max_length-1:\n",
    "                    x_pred[0, t] = char_to_idx.get(char, 0)  # Handle unknown chars\n",
    "\n",
    "            # Get predictions and apply temperature\n",
    "            preds = model.predict(x_pred, verbose=0)[0]\n",
    "            preds = np.log(np.clip(preds, 1e-10, None)) / temp\n",
    "            exp_preds = np.exp(preds)\n",
    "            preds = exp_preds / exp_preds.sum()\n",
    "\n",
    "            # Mask invalid characters\n",
    "            valid_indices = [i for i, c in idx_to_char.items() if c in valid_chars or c in ['<', '>']]\n",
    "            mask = np.zeros_like(preds)\n",
    "            mask[valid_indices] = 1\n",
    "            masked_preds = preds * mask\n",
    "            if masked_preds.sum() == 0:\n",
    "                valid = False\n",
    "                break\n",
    "            masked_preds /= masked_preds.sum()\n",
    "\n",
    "            # Sample next character\n",
    "            next_idx = np.random.choice(len(masked_preds), p=masked_preds)\n",
    "            next_char = idx_to_char.get(next_idx, '')\n",
    "            \n",
    "            # Check for chemical constraints\n",
    "            if next_char not in valid_chars and next_char not in ['<', '>']:\n",
    "                valid = False\n",
    "                break\n",
    "\n",
    "            generated += next_char\n",
    "\n",
    "            # Early stopping check\n",
    "            if next_char == '>':\n",
    "                break\n",
    "\n",
    "        # Process generated molecule\n",
    "        molecule = generated.replace('<', '').replace('>', '')\n",
    "        \n",
    "        # Validate with RDKit using strict sanitization\n",
    "        mol = Chem.MolFromSmiles(molecule, sanitize=False)\n",
    "        if mol:\n",
    "            try:\n",
    "                Chem.SanitizeMol(mol, sanitizeOps=SanitizeFlags.SANITIZE_ALL)\n",
    "                return molecule  # Return valid molecule\n",
    "            except:\n",
    "                continue  # Retry if sanitization fails\n",
    "                \n",
    "    return None  # Return None after max retries\n"
   ]
  },
  {
   "cell_type": "code",
   "execution_count": 36,
   "metadata": {},
   "outputs": [],
   "source": [
    "# 5. Validate generated molecules\n",
    "def validate_molecules(smiles_list):\n",
    "    \"\"\"Check if generated SMILES strings represent valid molecules.\"\"\"\n",
    "    valid_mols = []\n",
    "    for smiles in smiles_list:\n",
    "        mol = Chem.MolFromSmiles(smiles)\n",
    "        if mol is not None:\n",
    "            valid_mols.append((smiles, mol))\n",
    "    \n",
    "    return valid_mols\n",
    "\n",
    "def calculate_properties(valid_molecules, training_mols):\n",
    "    \"\"\"Calculate properties and similarity metrics for the generated molecules.\"\"\"\n",
    "    results = []\n",
    "    \n",
    "    # Create fingerprints for training molecules\n",
    "    training_fps = [AllChem.GetMorganFingerprintAsBitVect(mol, 2, 1024) \n",
    "                   for mol in training_mols]\n",
    "    \n",
    "    for smiles, mol in valid_molecules:\n",
    "        # Calculate basic properties\n",
    "        mol_weight = Descriptors.MolWt(mol)\n",
    "        logp = Descriptors.MolLogP(mol)\n",
    "        tpsa = Descriptors.TPSA(mol)\n",
    "        qed_score = QED.qed(mol)\n",
    "        \n",
    "        # Calculate similarity to training set\n",
    "        fp = AllChem.GetMorganFingerprintAsBitVect(mol, 2, 1024)\n",
    "        similarities = [DataStructs.TanimotoSimilarity(fp, train_fp) \n",
    "                       for train_fp in training_fps]\n",
    "        max_similarity = max(similarities)\n",
    "        avg_similarity = sum(similarities) / len(similarities)\n",
    "        \n",
    "        results.append({\n",
    "            'SMILES': smiles,\n",
    "            'MolWeight': mol_weight,\n",
    "            'LogP': logp,\n",
    "            'TPSA': tpsa,\n",
    "            'QED': qed_score,\n",
    "            'MaxSimilarity': max_similarity,\n",
    "            'AvgSimilarity': avg_similarity\n",
    "        })\n",
    "    \n",
    "    return pd.DataFrame(results)"
   ]
  },
  {
   "cell_type": "code",
   "execution_count": 37,
   "metadata": {},
   "outputs": [
    {
     "name": "stdout",
     "output_type": "stream",
     "text": [
      "Dataset loaded successfully with 3000 molecules.\n"
     ]
    },
    {
     "data": {
      "text/html": [
       "<div>\n",
       "<style scoped>\n",
       "    .dataframe tbody tr th:only-of-type {\n",
       "        vertical-align: middle;\n",
       "    }\n",
       "\n",
       "    .dataframe tbody tr th {\n",
       "        vertical-align: top;\n",
       "    }\n",
       "\n",
       "    .dataframe thead th {\n",
       "        text-align: right;\n",
       "    }\n",
       "</style>\n",
       "<table border=\"1\" class=\"dataframe\">\n",
       "  <thead>\n",
       "    <tr style=\"text-align: right;\">\n",
       "      <th></th>\n",
       "      <th>SMILES</th>\n",
       "    </tr>\n",
       "  </thead>\n",
       "  <tbody>\n",
       "    <tr>\n",
       "      <th>0</th>\n",
       "      <td>Ic1ccc(nc1)Cc1cccc(c1)Cc1ccc(cn1)N1C(=O)c2c(C1...</td>\n",
       "    </tr>\n",
       "    <tr>\n",
       "      <th>1</th>\n",
       "      <td>Ic1ccc(nc1)Cc1ccc2c(c1)cc(cc2)Cc1ccc(cn1)N1C(=...</td>\n",
       "    </tr>\n",
       "    <tr>\n",
       "      <th>2</th>\n",
       "      <td>O=C1c2cc(ccc2C(=O)N1c1ccc(c(c1Cl)Cl)S(=O)(=O)c...</td>\n",
       "    </tr>\n",
       "    <tr>\n",
       "      <th>3</th>\n",
       "      <td>Ic1cc(cc(c1)C(=O)O)C(=O)c1ccc2c(c1)ccc(c2)C(=O...</td>\n",
       "    </tr>\n",
       "    <tr>\n",
       "      <th>4</th>\n",
       "      <td>Clc1cc(cc(c1)C(C(F)(F)F)(C(F)(F)F)c1c(C)cc(cc1...</td>\n",
       "    </tr>\n",
       "  </tbody>\n",
       "</table>\n",
       "</div>"
      ],
      "text/plain": [
       "                                              SMILES\n",
       "0  Ic1ccc(nc1)Cc1cccc(c1)Cc1ccc(cn1)N1C(=O)c2c(C1...\n",
       "1  Ic1ccc(nc1)Cc1ccc2c(c1)cc(cc2)Cc1ccc(cn1)N1C(=...\n",
       "2  O=C1c2cc(ccc2C(=O)N1c1ccc(c(c1Cl)Cl)S(=O)(=O)c...\n",
       "3  Ic1cc(cc(c1)C(=O)O)C(=O)c1ccc2c(c1)ccc(c2)C(=O...\n",
       "4  Clc1cc(cc(c1)C(C(F)(F)F)(C(F)(F)F)c1c(C)cc(cc1..."
      ]
     },
     "execution_count": 37,
     "metadata": {},
     "output_type": "execute_result"
    }
   ],
   "source": [
    "num_molecules = 100\n",
    "file_path = \"Data_for_GenAI.csv\"\n",
    "data = load_smiles_dataset(file_path)\n",
    "data = data[['Unnamed: 1']].rename(columns={'Unnamed: 1': 'SMILES'})\n",
    "data.head()"
   ]
  },
  {
   "cell_type": "code",
   "execution_count": 38,
   "metadata": {},
   "outputs": [],
   "source": [
    "def train_model(model, X_train, y_train, X_val, y_val):\n",
    "    # Callbacks\n",
    "    callbacks = [\n",
    "        tf.keras.callbacks.EarlyStopping(monitor='val_loss', patience=3, restore_best_weights=True, min_delta=0.01),\n",
    "        tf.keras.callbacks.ReduceLROnPlateau(factor=0.5, patience=2)\n",
    "    ]\n",
    "\n",
    "    # Train\n",
    "    history = model.fit(\n",
    "        X_train, y_train,\n",
    "        epochs=50,\n",
    "        batch_size=128,\n",
    "        validation_data=(X_val, y_val)\n",
    "    )\n",
    "    return history\n"
   ]
  },
  {
   "cell_type": "code",
   "execution_count": 39,
   "metadata": {},
   "outputs": [
    {
     "name": "stdout",
     "output_type": "stream",
     "text": [
      "21\n",
      "165\n"
     ]
    },
    {
     "data": {
      "text/html": [
       "<pre style=\"white-space:pre;overflow-x:auto;line-height:normal;font-family:Menlo,'DejaVu Sans Mono',consolas,'Courier New',monospace\"><span style=\"font-weight: bold\">Model: \"sequential_6\"</span>\n",
       "</pre>\n"
      ],
      "text/plain": [
       "\u001b[1mModel: \"sequential_6\"\u001b[0m\n"
      ]
     },
     "metadata": {},
     "output_type": "display_data"
    },
    {
     "data": {
      "text/html": [
       "<pre style=\"white-space:pre;overflow-x:auto;line-height:normal;font-family:Menlo,'DejaVu Sans Mono',consolas,'Courier New',monospace\">┏━━━━━━━━━━━━━━━━━━━━━━━━━━━━━━━━━┳━━━━━━━━━━━━━━━━━━━━━━━━┳━━━━━━━━━━━━━━━┓\n",
       "┃<span style=\"font-weight: bold\"> Layer (type)                    </span>┃<span style=\"font-weight: bold\"> Output Shape           </span>┃<span style=\"font-weight: bold\">       Param # </span>┃\n",
       "┡━━━━━━━━━━━━━━━━━━━━━━━━━━━━━━━━━╇━━━━━━━━━━━━━━━━━━━━━━━━╇━━━━━━━━━━━━━━━┩\n",
       "│ embedding_6 (<span style=\"color: #0087ff; text-decoration-color: #0087ff\">Embedding</span>)         │ ?                      │   <span style=\"color: #00af00; text-decoration-color: #00af00\">0</span> (unbuilt) │\n",
       "├─────────────────────────────────┼────────────────────────┼───────────────┤\n",
       "│ lstm_8 (<span style=\"color: #0087ff; text-decoration-color: #0087ff\">LSTM</span>)                   │ ?                      │   <span style=\"color: #00af00; text-decoration-color: #00af00\">0</span> (unbuilt) │\n",
       "├─────────────────────────────────┼────────────────────────┼───────────────┤\n",
       "│ dropout (<span style=\"color: #0087ff; text-decoration-color: #0087ff\">Dropout</span>)               │ ?                      │             <span style=\"color: #00af00; text-decoration-color: #00af00\">0</span> │\n",
       "├─────────────────────────────────┼────────────────────────┼───────────────┤\n",
       "│ lstm_9 (<span style=\"color: #0087ff; text-decoration-color: #0087ff\">LSTM</span>)                   │ ?                      │   <span style=\"color: #00af00; text-decoration-color: #00af00\">0</span> (unbuilt) │\n",
       "├─────────────────────────────────┼────────────────────────┼───────────────┤\n",
       "│ dense_6 (<span style=\"color: #0087ff; text-decoration-color: #0087ff\">Dense</span>)                 │ ?                      │   <span style=\"color: #00af00; text-decoration-color: #00af00\">0</span> (unbuilt) │\n",
       "└─────────────────────────────────┴────────────────────────┴───────────────┘\n",
       "</pre>\n"
      ],
      "text/plain": [
       "┏━━━━━━━━━━━━━━━━━━━━━━━━━━━━━━━━━┳━━━━━━━━━━━━━━━━━━━━━━━━┳━━━━━━━━━━━━━━━┓\n",
       "┃\u001b[1m \u001b[0m\u001b[1mLayer (type)                   \u001b[0m\u001b[1m \u001b[0m┃\u001b[1m \u001b[0m\u001b[1mOutput Shape          \u001b[0m\u001b[1m \u001b[0m┃\u001b[1m \u001b[0m\u001b[1m      Param #\u001b[0m\u001b[1m \u001b[0m┃\n",
       "┡━━━━━━━━━━━━━━━━━━━━━━━━━━━━━━━━━╇━━━━━━━━━━━━━━━━━━━━━━━━╇━━━━━━━━━━━━━━━┩\n",
       "│ embedding_6 (\u001b[38;5;33mEmbedding\u001b[0m)         │ ?                      │   \u001b[38;5;34m0\u001b[0m (unbuilt) │\n",
       "├─────────────────────────────────┼────────────────────────┼───────────────┤\n",
       "│ lstm_8 (\u001b[38;5;33mLSTM\u001b[0m)                   │ ?                      │   \u001b[38;5;34m0\u001b[0m (unbuilt) │\n",
       "├─────────────────────────────────┼────────────────────────┼───────────────┤\n",
       "│ dropout (\u001b[38;5;33mDropout\u001b[0m)               │ ?                      │             \u001b[38;5;34m0\u001b[0m │\n",
       "├─────────────────────────────────┼────────────────────────┼───────────────┤\n",
       "│ lstm_9 (\u001b[38;5;33mLSTM\u001b[0m)                   │ ?                      │   \u001b[38;5;34m0\u001b[0m (unbuilt) │\n",
       "├─────────────────────────────────┼────────────────────────┼───────────────┤\n",
       "│ dense_6 (\u001b[38;5;33mDense\u001b[0m)                 │ ?                      │   \u001b[38;5;34m0\u001b[0m (unbuilt) │\n",
       "└─────────────────────────────────┴────────────────────────┴───────────────┘\n"
      ]
     },
     "metadata": {},
     "output_type": "display_data"
    },
    {
     "data": {
      "text/html": [
       "<pre style=\"white-space:pre;overflow-x:auto;line-height:normal;font-family:Menlo,'DejaVu Sans Mono',consolas,'Courier New',monospace\"><span style=\"font-weight: bold\"> Total params: </span><span style=\"color: #00af00; text-decoration-color: #00af00\">0</span> (0.00 B)\n",
       "</pre>\n"
      ],
      "text/plain": [
       "\u001b[1m Total params: \u001b[0m\u001b[38;5;34m0\u001b[0m (0.00 B)\n"
      ]
     },
     "metadata": {},
     "output_type": "display_data"
    },
    {
     "data": {
      "text/html": [
       "<pre style=\"white-space:pre;overflow-x:auto;line-height:normal;font-family:Menlo,'DejaVu Sans Mono',consolas,'Courier New',monospace\"><span style=\"font-weight: bold\"> Trainable params: </span><span style=\"color: #00af00; text-decoration-color: #00af00\">0</span> (0.00 B)\n",
       "</pre>\n"
      ],
      "text/plain": [
       "\u001b[1m Trainable params: \u001b[0m\u001b[38;5;34m0\u001b[0m (0.00 B)\n"
      ]
     },
     "metadata": {},
     "output_type": "display_data"
    },
    {
     "data": {
      "text/html": [
       "<pre style=\"white-space:pre;overflow-x:auto;line-height:normal;font-family:Menlo,'DejaVu Sans Mono',consolas,'Courier New',monospace\"><span style=\"font-weight: bold\"> Non-trainable params: </span><span style=\"color: #00af00; text-decoration-color: #00af00\">0</span> (0.00 B)\n",
       "</pre>\n"
      ],
      "text/plain": [
       "\u001b[1m Non-trainable params: \u001b[0m\u001b[38;5;34m0\u001b[0m (0.00 B)\n"
      ]
     },
     "metadata": {},
     "output_type": "display_data"
    }
   ],
   "source": [
    "smiles_list = data['SMILES'].tolist()\n",
    "X, y, char_to_idx, idx_to_char, max_length = preprocess_smiles(smiles_list)\n",
    "vocab_size = len(char_to_idx)\n",
    "print(vocab_size)\n",
    "print(max_length)\n",
    "\n",
    "# Split the dataset into training and validation sets\n",
    "X_train, X_val, y_train, y_val = train_test_split(X, y, test_size=0.2, random_state=42)\n",
    "\n",
    "# Build and train the model\n",
    "model = create_model(vocab_size, max_length)\n",
    "model.summary()\n",
    "\n"
   ]
  },
  {
   "cell_type": "code",
   "execution_count": 31,
   "metadata": {},
   "outputs": [
    {
     "name": "stdout",
     "output_type": "stream",
     "text": [
      "Epoch 1/50\n"
     ]
    },
    {
     "ename": "ValueError",
     "evalue": "Argument `output` must have rank (ndim) `target.ndim - 1`. Received: target.shape=(None, 21), output.shape=(None, 21)",
     "output_type": "error",
     "traceback": [
      "\u001b[0;31m---------------------------------------------------------------------------\u001b[0m",
      "\u001b[0;31mValueError\u001b[0m                                Traceback (most recent call last)",
      "Cell \u001b[0;32mIn[31], line 1\u001b[0m\n\u001b[0;32m----> 1\u001b[0m history \u001b[38;5;241m=\u001b[39m \u001b[43mtrain_model\u001b[49m\u001b[43m(\u001b[49m\u001b[43mmodel\u001b[49m\u001b[43m,\u001b[49m\u001b[43m \u001b[49m\u001b[43mX_train\u001b[49m\u001b[43m,\u001b[49m\u001b[43m \u001b[49m\u001b[43my_train\u001b[49m\u001b[43m,\u001b[49m\u001b[43m \u001b[49m\u001b[43mX_val\u001b[49m\u001b[43m,\u001b[49m\u001b[43m \u001b[49m\u001b[43my_val\u001b[49m\u001b[43m)\u001b[49m\n",
      "Cell \u001b[0;32mIn[29], line 9\u001b[0m, in \u001b[0;36mtrain_model\u001b[0;34m(model, X_train, y_train, X_val, y_val)\u001b[0m\n\u001b[1;32m      3\u001b[0m callbacks \u001b[38;5;241m=\u001b[39m [\n\u001b[1;32m      4\u001b[0m     tf\u001b[38;5;241m.\u001b[39mkeras\u001b[38;5;241m.\u001b[39mcallbacks\u001b[38;5;241m.\u001b[39mEarlyStopping(monitor\u001b[38;5;241m=\u001b[39m\u001b[38;5;124m'\u001b[39m\u001b[38;5;124mval_loss\u001b[39m\u001b[38;5;124m'\u001b[39m, patience\u001b[38;5;241m=\u001b[39m\u001b[38;5;241m3\u001b[39m, restore_best_weights\u001b[38;5;241m=\u001b[39m\u001b[38;5;28;01mTrue\u001b[39;00m, min_delta\u001b[38;5;241m=\u001b[39m\u001b[38;5;241m0.01\u001b[39m),\n\u001b[1;32m      5\u001b[0m     tf\u001b[38;5;241m.\u001b[39mkeras\u001b[38;5;241m.\u001b[39mcallbacks\u001b[38;5;241m.\u001b[39mReduceLROnPlateau(factor\u001b[38;5;241m=\u001b[39m\u001b[38;5;241m0.5\u001b[39m, patience\u001b[38;5;241m=\u001b[39m\u001b[38;5;241m2\u001b[39m)\n\u001b[1;32m      6\u001b[0m ]\n\u001b[1;32m      8\u001b[0m \u001b[38;5;66;03m# Train\u001b[39;00m\n\u001b[0;32m----> 9\u001b[0m history \u001b[38;5;241m=\u001b[39m \u001b[43mmodel\u001b[49m\u001b[38;5;241;43m.\u001b[39;49m\u001b[43mfit\u001b[49m\u001b[43m(\u001b[49m\n\u001b[1;32m     10\u001b[0m \u001b[43m    \u001b[49m\u001b[43mX_train\u001b[49m\u001b[43m,\u001b[49m\u001b[43m \u001b[49m\u001b[43my_train\u001b[49m\u001b[43m,\u001b[49m\n\u001b[1;32m     11\u001b[0m \u001b[43m    \u001b[49m\u001b[43mepochs\u001b[49m\u001b[38;5;241;43m=\u001b[39;49m\u001b[38;5;241;43m50\u001b[39;49m\u001b[43m,\u001b[49m\n\u001b[1;32m     12\u001b[0m \u001b[43m    \u001b[49m\u001b[43mbatch_size\u001b[49m\u001b[38;5;241;43m=\u001b[39;49m\u001b[38;5;241;43m128\u001b[39;49m\u001b[43m,\u001b[49m\n\u001b[1;32m     13\u001b[0m \u001b[43m    \u001b[49m\u001b[43mvalidation_data\u001b[49m\u001b[38;5;241;43m=\u001b[39;49m\u001b[43m(\u001b[49m\u001b[43mX_val\u001b[49m\u001b[43m,\u001b[49m\u001b[43m \u001b[49m\u001b[43my_val\u001b[49m\u001b[43m)\u001b[49m\n\u001b[1;32m     14\u001b[0m \u001b[43m\u001b[49m\u001b[43m)\u001b[49m\n\u001b[1;32m     15\u001b[0m \u001b[38;5;28;01mreturn\u001b[39;00m history\n",
      "File \u001b[0;32m~/Documents/CH5650 - Molecular DS/Assignment 6/.venv/lib/python3.9/site-packages/keras/src/utils/traceback_utils.py:122\u001b[0m, in \u001b[0;36mfilter_traceback.<locals>.error_handler\u001b[0;34m(*args, **kwargs)\u001b[0m\n\u001b[1;32m    119\u001b[0m     filtered_tb \u001b[38;5;241m=\u001b[39m _process_traceback_frames(e\u001b[38;5;241m.\u001b[39m__traceback__)\n\u001b[1;32m    120\u001b[0m     \u001b[38;5;66;03m# To get the full stack trace, call:\u001b[39;00m\n\u001b[1;32m    121\u001b[0m     \u001b[38;5;66;03m# `keras.config.disable_traceback_filtering()`\u001b[39;00m\n\u001b[0;32m--> 122\u001b[0m     \u001b[38;5;28;01mraise\u001b[39;00m e\u001b[38;5;241m.\u001b[39mwith_traceback(filtered_tb) \u001b[38;5;28;01mfrom\u001b[39;00m\u001b[38;5;250m \u001b[39m\u001b[38;5;28;01mNone\u001b[39;00m\n\u001b[1;32m    123\u001b[0m \u001b[38;5;28;01mfinally\u001b[39;00m:\n\u001b[1;32m    124\u001b[0m     \u001b[38;5;28;01mdel\u001b[39;00m filtered_tb\n",
      "File \u001b[0;32m~/Documents/CH5650 - Molecular DS/Assignment 6/.venv/lib/python3.9/site-packages/keras/src/backend/tensorflow/nn.py:725\u001b[0m, in \u001b[0;36msparse_categorical_crossentropy\u001b[0;34m(target, output, from_logits, axis)\u001b[0m\n\u001b[1;32m    719\u001b[0m     \u001b[38;5;28;01mraise\u001b[39;00m \u001b[38;5;167;01mValueError\u001b[39;00m(\n\u001b[1;32m    720\u001b[0m         \u001b[38;5;124m\"\u001b[39m\u001b[38;5;124mArgument `output` must be at least rank 1. \u001b[39m\u001b[38;5;124m\"\u001b[39m\n\u001b[1;32m    721\u001b[0m         \u001b[38;5;124m\"\u001b[39m\u001b[38;5;124mReceived: \u001b[39m\u001b[38;5;124m\"\u001b[39m\n\u001b[1;32m    722\u001b[0m         \u001b[38;5;124mf\u001b[39m\u001b[38;5;124m\"\u001b[39m\u001b[38;5;124moutput.shape=\u001b[39m\u001b[38;5;132;01m{\u001b[39;00moutput\u001b[38;5;241m.\u001b[39mshape\u001b[38;5;132;01m}\u001b[39;00m\u001b[38;5;124m\"\u001b[39m\n\u001b[1;32m    723\u001b[0m     )\n\u001b[1;32m    724\u001b[0m \u001b[38;5;28;01mif\u001b[39;00m \u001b[38;5;28mlen\u001b[39m(target\u001b[38;5;241m.\u001b[39mshape) \u001b[38;5;241m!=\u001b[39m \u001b[38;5;28mlen\u001b[39m(output\u001b[38;5;241m.\u001b[39mshape[:\u001b[38;5;241m-\u001b[39m\u001b[38;5;241m1\u001b[39m]):\n\u001b[0;32m--> 725\u001b[0m     \u001b[38;5;28;01mraise\u001b[39;00m \u001b[38;5;167;01mValueError\u001b[39;00m(\n\u001b[1;32m    726\u001b[0m         \u001b[38;5;124m\"\u001b[39m\u001b[38;5;124mArgument `output` must have rank (ndim) `target.ndim - 1`. \u001b[39m\u001b[38;5;124m\"\u001b[39m\n\u001b[1;32m    727\u001b[0m         \u001b[38;5;124m\"\u001b[39m\u001b[38;5;124mReceived: \u001b[39m\u001b[38;5;124m\"\u001b[39m\n\u001b[1;32m    728\u001b[0m         \u001b[38;5;124mf\u001b[39m\u001b[38;5;124m\"\u001b[39m\u001b[38;5;124mtarget.shape=\u001b[39m\u001b[38;5;132;01m{\u001b[39;00mtarget\u001b[38;5;241m.\u001b[39mshape\u001b[38;5;132;01m}\u001b[39;00m\u001b[38;5;124m, output.shape=\u001b[39m\u001b[38;5;132;01m{\u001b[39;00moutput\u001b[38;5;241m.\u001b[39mshape\u001b[38;5;132;01m}\u001b[39;00m\u001b[38;5;124m\"\u001b[39m\n\u001b[1;32m    729\u001b[0m     )\n\u001b[1;32m    730\u001b[0m \u001b[38;5;28;01mfor\u001b[39;00m e1, e2 \u001b[38;5;129;01min\u001b[39;00m \u001b[38;5;28mzip\u001b[39m(target\u001b[38;5;241m.\u001b[39mshape, output\u001b[38;5;241m.\u001b[39mshape[:\u001b[38;5;241m-\u001b[39m\u001b[38;5;241m1\u001b[39m]):\n\u001b[1;32m    731\u001b[0m     \u001b[38;5;28;01mif\u001b[39;00m e1 \u001b[38;5;129;01mis\u001b[39;00m \u001b[38;5;129;01mnot\u001b[39;00m \u001b[38;5;28;01mNone\u001b[39;00m \u001b[38;5;129;01mand\u001b[39;00m e2 \u001b[38;5;129;01mis\u001b[39;00m \u001b[38;5;129;01mnot\u001b[39;00m \u001b[38;5;28;01mNone\u001b[39;00m \u001b[38;5;129;01mand\u001b[39;00m e1 \u001b[38;5;241m!=\u001b[39m e2:\n",
      "\u001b[0;31mValueError\u001b[0m: Argument `output` must have rank (ndim) `target.ndim - 1`. Received: target.shape=(None, 21), output.shape=(None, 21)"
     ]
    }
   ],
   "source": [
    "history = train_model(model, X_train, y_train, X_val, y_val)"
   ]
  },
  {
   "cell_type": "code",
   "execution_count": 71,
   "metadata": {},
   "outputs": [
    {
     "data": {
      "image/png": "[encoded data removed]",
      "text/plain": [
       "<Figure size 1200x400 with 2 Axes>"
      ]
     },
     "metadata": {},
     "output_type": "display_data"
    }
   ],
   "source": [
    "#plotting the training history\n",
    "plt.figure(figsize=(12, 4))\n",
    "plt.subplot(1, 2, 1)\n",
    "plt.plot(history.history['loss'], label='Train Loss')\n",
    "plt.plot(history.history['val_loss'], label='Validation Loss')\n",
    "plt.title('Loss')\n",
    "plt.xlabel('Epochs')\n",
    "plt.ylabel('Loss')\n",
    "plt.legend()\n",
    "plt.subplot(1, 2, 2)\n",
    "plt.plot(history.history['accuracy'], label='Train Accuracy')\n",
    "plt.plot(history.history['val_accuracy'], label='Validation Accuracy')\n",
    "plt.title('Accuracy')\n",
    "plt.xlabel('Epochs')\n",
    "plt.ylabel('Accuracy')\n",
    "plt.legend()\n",
    "plt.tight_layout()\n",
    "plt.show()"
   ]
  },
  {
   "cell_type": "code",
   "execution_count": 74,
   "metadata": {},
   "outputs": [
    {
     "name": "stdout",
     "output_type": "stream",
     "text": [
      "generating new molecules...\n"
     ]
    },
    {
     "name": "stderr",
     "output_type": "stream",
     "text": [
      "  0%|          | 0/100 [08:08<?, ?it/s]\n",
      "[19:22:04] SMILES Parse Error: extra close parentheses while parsing: COIFOFOOOOFFFFOOOOFFCIFOFOOFOFOOFOOFOFFICOFOCFFFOOOFFFOOCOOOFFFFFOFOOOOOOFOOOOOOFOOOFFCOFFFFCOOFFFOFOFOOOFFOOFOOOFFFFOFFFFOOFFFFFFFFFFFFFFFFFFFOFFFFFFFFFFFFFFF)C=O))\n",
      "[19:22:04] SMILES Parse Error: check for mistakes around position 160:\n",
      "[19:22:04] FFFFOFFFFFFFFFFFFFFF)C=O))\n",
      "[19:22:04] ~~~~~~~~~~~~~~~~~~~~^\n",
      "[19:22:04] SMILES Parse Error: Failed parsing SMILES 'COIFOFOOOOFFFFOOOOFFCIFOFOOFOFOOFOOFOFFICOFOCFFFOOOFFFOOCOOOFFFFFOFOOOOOOFOOOOOOFOOOFFCOFFFFCOOFFFOFOFOOOFFOOFOOOFFFFOFFFFOOFFFFFFFFFFFFFFFFFFFOFFFFFFFFFFFFFFF)C=O))' for input: 'COIFOFOOOOFFFFOOOOFFCIFOFOOFOFOOFOOFOFFICOFOCFFFOOOFFFOOCOOOFFFFFOFOOOOOOFOOOOOOFOOOFFCOFFFFCOOFFFOFOFOOOFFOOFOOOFFFFOFFFFOOFFFFFFFFFFFFFFFFFFFOFFFFFFFFFFFFFFF)C=O))'\n",
      "[19:22:10] SMILES Parse Error: syntax error while parsing: OOFOOOFIFOOFOIOFCOFFOFFOOCFOOFOOFFOOOFFFCOOFOOOOOOFOOOOOFFOFFOOOOFFFIOOOOOOOFFFOOFFOFFOFFFOFFFIOFFOOOOFOOOFFOFOOFOFFFFFOFFFFIFOFFFFFOOFCFFFFFFFFFFFFFFFFFFFFFFFF=)C((\n",
      "[19:22:10] SMILES Parse Error: check for mistakes around position 162:\n",
      "[19:22:10] FFFFFFFFFFFFFFFFFFF=)C((\n",
      "[19:22:10] ~~~~~~~~~~~~~~~~~~~~^\n",
      "[19:22:10] SMILES Parse Error: Failed parsing SMILES 'OOFOOOFIFOOFOIOFCOFFOFFOOCFOOFOOFFOOOFFFCOOFOOOOOOFOOOOOFFOFFOOOOFFFIOOOOOOOFFFOOFFOFFOFFFOFFFIOFFOOOOFOOOFFOFOOFOFFFFFOFFFFIFOFFFFFOOFCFFFFFFFFFFFFFFFFFFFFFFFF=)C((' for input: 'OOFOOOFIFOOFOIOFCOFFOFFOOCFOOFOOFFOOOFFFCOOFOOOOOOFOOOOOFFOFFOOOOFFFIOOOOOOOFFFOOFFOFFOFFFOFFFIOFFOOOOFOOOFFOFOOFOFFFFFOFFFFIFOFFFFFOOFCFFFFFFFFFFFFFFFFFFFFFFFF=)C(('\n",
      "[19:22:16] SMILES Parse Error: extra close parentheses while parsing: FOFOFOOOOOOOOFOOCOFIOOOOOFFOCCOCFOOFFOFOIFOOOOFOFOFOFFOOOFOOFOOOFOFOFFFFFIICFFIFFFFFIOFFOFFOFFOFOOOOFFFOFFFFOFFIFFOOOOFOFOOFFFFFFFFFFFFFFFFFFFFFFFFFFFFFFFFFFF)C=F)((\n",
      "[19:22:16] SMILES Parse Error: check for mistakes around position 159:\n",
      "[19:22:16] FFFFFFFFFFFFFFFFFFFF)C=F)((\n",
      "[19:22:16] ~~~~~~~~~~~~~~~~~~~~^\n",
      "[19:22:16] SMILES Parse Error: Failed parsing SMILES 'FOFOFOOOOOOOOFOOCOFIOOOOOFFOCCOCFOOFFOFOIFOOOOFOFOFOFFOOOFOOFOOOFOFOFFFFFIICFFIFFFFFIOFFOFFOFFOFOOOOFFFOFFFFOFFIFFOOOOFOFOOFFFFFFFFFFFFFFFFFFFFFFFFFFFFFFFFFFF)C=F)((' for input: 'FOFOFOOOOOOOOFOOCOFIOOOOOFFOCCOCFOOFFOFOIFOOOOFOFOFOFFOOOFOOFOOOFOFOFFFFFIICFFIFFFFFIOFFOFFOFFOFOOOOFFFOFFFFOFFIFFOOOOFOFOOFFFFFFFFFFFFFFFFFFFFFFFFFFFFFFFFFFF)C=F)(('\n",
      "[19:22:23] SMILES Parse Error: extra close parentheses while parsing: OCFOOOOCFFOOFFOFOFOOOOOFOFIOFOOCOOOFOOOCFOFOOFOFFOFFFFOFOFOFFOFOOFFCOFFFFIOOOOIFOFFFFFOOFFFOFOOFFFOOOCFFFFOOOFOFFFCOOOFOFFFFFOOOOFFFOFFOFOFFFFFFFFFFFFFFFFFFFFFF)C=OO\n",
      "[19:22:23] SMILES Parse Error: check for mistakes around position 161:\n",
      "[19:22:23] FFFFFFFFFFFFFFFFFFFF)C=OO\n",
      "[19:22:23] ~~~~~~~~~~~~~~~~~~~~^\n",
      "[19:22:23] SMILES Parse Error: Failed parsing SMILES 'OCFOOOOCFFOOFFOFOFOOOOOFOFIOFOOCOOOFOOOCFOFOOFOFFOFFFFOFOFOFFOFOOFFCOFFFFIOOOOIFOFFFFFOOFFFOFOOFFFOOOCFFFFOOOFOFFFCOOOFOFFFFFOOOOFFFOFFOFOFFFFFFFFFFFFFFFFFFFFFF)C=OO' for input: 'OCFOOOOCFFOOFFOFOFOOOOOFOFIOFOOCOOOFOOOCFOFOOFOFFOFFFFOFOFOFFOFOOFFCOFFFFIOOOOIFOFFFFFOOFFFOFOOFFFOOOCFFFFOOOFOFFFCOOOFOFFFFFOOOOFFFOFFOFOFFFFFFFFFFFFFFFFFFFFFF)C=OO'\n",
      "[19:22:29] SMILES Parse Error: extra close parentheses while parsing: OOCOCOFOOOOIFOOOFOFFOOOOOCFFIFFOOOOIFOFOOFFFFOOFOIOOFFOOIFOOOOOOOFOOFFOFFFFFFOFOCOOOFOOOOOFFFOFFOFFFFFFFOFIOFOFOOFOFFFCOFIFFFOFFFFFFOFFFFFFOFFOFFFFFFFFFFFFFFFFF)C=OO\n",
      "[19:22:29] SMILES Parse Error: check for mistakes around position 161:\n",
      "[19:22:29] FFOFFFFFFFFFFFFFFFFF)C=OO\n",
      "[19:22:29] ~~~~~~~~~~~~~~~~~~~~^\n",
      "[19:22:29] SMILES Parse Error: Failed parsing SMILES 'OOCOCOFOOOOIFOOOFOFFOOOOOCFFIFFOOOOIFOFOOFFFFOOFOIOOFFOOIFOOOOOOOFOOFFOFFFFFFOFOCOOOFOOOOOFFFOFFOFFFFFFFOFIOFOFOOFOFFFCOFIFFFOFFFFFFOFFFFFFOFFOFFFFFFFFFFFFFFFFF)C=OO' for input: 'OOCOCOFOOOOIFOOOFOFFOOOOOCFFIFFOOOOIFOFOOFFFFOOFOIOOFFOOIFOOOOOOOFOOFFOFFFFFFOFOCOOOFOOOOOFFFOFFOFFFFFFFOFIOFOFOOFOFFFCOFIFFFOFFFFFFOFFFFFFOFFOFFFFFFFFFFFFFFFFF)C=OO'\n",
      "[19:22:36] SMILES Parse Error: syntax error while parsing: FFOOFCOFFFOOFFOIOOFOOOOOOOOFFFOOFOOFFOFFFFFFOOOOOFOOOOOOOFFOCFFFFOOFOOFOIFFOOOOFOFOOFOFFOFFFIFCOFOOOFOFFOFIFFOOFFFOOFOOFFFICFFFFFOCOFOFFFFOFOFFFFFFFFFFFFFFFFFF=)C=OO\n",
      "[19:22:36] SMILES Parse Error: check for mistakes around position 161:\n",
      "[19:22:36] OFFFFFFFFFFFFFFFFFF=)C=OO\n",
      "[19:22:36] ~~~~~~~~~~~~~~~~~~~~^\n",
      "[19:22:36] SMILES Parse Error: Failed parsing SMILES 'FFOOFCOFFFOOFFOIOOFOOOOOOOOFFFOOFOOFFOFFFFFFOOOOOFOOOOOOOFFOCFFFFOOFOOFOIFFOOOOFOFOOFOFFOFFFIFCOFOOOFOFFOFIFFOOFFFOOFOOFFFICFFFFFOCOFOFFFFOFOFFFFFFFFFFFFFFFFFF=)C=OO' for input: 'FFOOFCOFFFOOFFOIOOFOOOOOOOOFFFOOFOOFFOFFFFFFOOOOOFOOOOOOOFFOCFFFFOOFOOFOIFFOOOOFOFOOFOFFOFFFIFCOFOOOFOFFOFIFFOOFFFOOFOOFFFICFFFFFOCOFOFFFFOFOFFFFFFFFFFFFFFFFFF=)C=OO'\n",
      "[19:22:42] SMILES Parse Error: extra close parentheses while parsing: COOOFFOOFOIOOOOOFFOOFOFCOFFOOOOOFOIOIOOFFOFFIOFIOOOOOOIOOOCOCFOIFOFFOOFOFOFOOOOFIFOFOOOOOOFFFOOOFFFCOOCOFFFOOCOFFFFOFFFFFFFOFFFOFFFFFFFOOFFFFFFFFFFFOFFFFFFFFFF)C=O))\n",
      "[19:22:42] SMILES Parse Error: check for mistakes around position 160:\n",
      "[19:22:42] FFFFFFFFFOFFFFFFFFFF)C=O))\n",
      "[19:22:42] ~~~~~~~~~~~~~~~~~~~~^\n",
      "[19:22:42] SMILES Parse Error: Failed parsing SMILES 'COOOFFOOFOIOOOOOFFOOFOFCOFFOOOOOFOIOIOOFFOFFIOFIOOOOOOIOOOCOCFOIFOFFOOFOFOFOOOOFIFOFOOOOOOFFFOOOFFFCOOCOFFFOOCOFFFFOFFFFFFFOFFFOFFFFFFFOOFFFFFFFFFFFOFFFFFFFFFF)C=O))' for input: 'COOOFFOOFOIOOOOOFFOOFOFCOFFOOOOOFOIOIOOFFOFFIOFIOOOOOOIOOOCOCFOIFOFFOOFOFOFOOOOFIFOFOOOOOOFFFOOOFFFCOOCOFFFOOCOFFFFOFFFFFFFOFFFOFFFFFFFOOFFFFFFFFFFFOFFFFFFFFFF)C=O))'\n",
      "[19:22:48] SMILES Parse Error: extra close parentheses while parsing: OFOOOOOOOOCOIFFFOOOOIIFOFFFFOFOFOFOOOOCFOFOOFFOOFFOFFOOFFOOOFFOOOIFOFFFOFOOOOFFFFOFOOFFFFFFOFOFIOOOFFOOFFFFCOFOFOFFOFFFFOFOFOFOFOFFFFFFFFFFFFFOFFFFFFFFFFFFFFF)O=C=OO\n",
      "[19:22:48] SMILES Parse Error: check for mistakes around position 159:\n",
      "[19:22:48] FFFFOFFFFFFFFFFFFFFF)O=C=OO\n",
      "[19:22:48] ~~~~~~~~~~~~~~~~~~~~^\n",
      "[19:22:48] SMILES Parse Error: Failed parsing SMILES 'OFOOOOOOOOCOIFFFOOOOIIFOFFFFOFOFOFOOOOCFOFOOFFOOFFOFFOOFFOOOFFOOOIFOFFFOFOOOOFFFFOFOOFFFFFFOFOFIOOOFFOOFFFFCOFOFOFFOFFFFOFOFOFOFOFFFFFFFFFFFFFOFFFFFFFFFFFFFFF)O=C=OO' for input: 'OFOOOOOOOOCOIFFFOOOOIIFOFFFFOFOFOFOOOOCFOFOOFFOOFFOFFOOFFOOOFFOOOIFOFFFOFOOOOFFFFOFOOFFFFFFOFOFIOOOFFOOFFFFCOFOFOFFOFFFFOFOFOFOFOFFFFFFFFFFFFFOFFFFFFFFFFFFFFF)O=C=OO'\n",
      "[19:22:55] SMILES Parse Error: extra close parentheses while parsing: IFFFFOOOOFOOCOOOOOFFFOFFOFFCFOFFFOFFOFFFOOOFCOOOOOOOFFOOOCOOFFCOOOFFOFOOFFFFFIFFFFOOFFFOFOFOOOFOOOOFFOOFFOFFOOOFOOFCFFFFFOFOOCFFOOFFFOFFFFFFOFFFFFFFFFFFFFFFFFFF)C=OO\n",
      "[19:22:55] SMILES Parse Error: check for mistakes around position 161:\n",
      "[19:22:55] OFFFFFFFFFFFFFFFFFFF)C=OO\n",
      "[19:22:55] ~~~~~~~~~~~~~~~~~~~~^\n",
      "[19:22:55] SMILES Parse Error: Failed parsing SMILES 'IFFFFOOOOFOOCOOOOOFFFOFFOFFCFOFFFOFFOFFFOOOFCOOOOOOOFFOOOCOOFFCOOOFFOFOOFFFFFIFFFFOOFFFOFOFOOOFOOOOFFOOFFOFFOOOFOOFCFFFFFOFOOCFFOOFFFOFFFFFFOFFFFFFFFFFFFFFFFFFF)C=OO' for input: 'IFFFFOOOOFOOCOOOOOFFFOFFOFFCFOFFFOFFOFFFOOOFCOOOOOOOFFOOOCOOFFCOOOFFOFOOFFFFFIFFFFOOFFFOFOFOOOFOOOOFFOOFFOFFOOOFOOFCFFFFFOFOOCFFOOFFFOFFFFFFOFFFFFFFFFFFFFFFFFFF)C=OO'\n",
      "[19:23:01] SMILES Parse Error: extra close parentheses while parsing: OOOOFFOOOFFOFFOFOFOOFFOFOFOOFOFOFOOFOFOFOOFOOFOOOFOFOOOOFFFFOFOOFOIOOOOOOOFOFOOCFOFFOIOIOFOOIFFOCFOCOOFOCOOIOCOOIFOOFOOOFOFFFFFOFFFFFOFFOFFFFFFFFFFFFFFFFFFFFFFF)C=OO\n",
      "[19:23:01] SMILES Parse Error: check for mistakes around position 161:\n",
      "[19:23:01] FFFFFFFFFFFFFFFFFFFF)C=OO\n",
      "[19:23:01] ~~~~~~~~~~~~~~~~~~~~^\n",
      "[19:23:01] SMILES Parse Error: Failed parsing SMILES 'OOOOFFOOOFFOFFOFOFOOFFOFOFOOFOFOFOOFOFOFOOFOOFOOOFOFOOOOFFFFOFOOFOIOOOOOOOFOFOOCFOFFOIOIOFOOIFFOCFOCOOFOCOOIOCOOIFOOFOOOFOFFFFFOFFFFFOFFOFFFFFFFFFFFFFFFFFFFFFFF)C=OO' for input: 'OOOOFFOOOFFOFFOFOFOOFFOFOFOOFOFOFOOFOFOFOOFOOFOOOFOFOOOOFFFFOFOOFOIOOOOOOOFOFOOCFOFFOIOIOFOOIFFOCFOCOOFOCOOIOCOOIFOOFOOOFOFFFFFOFFFFFOFFOFFFFFFFFFFFFFFFFFFFFFFF)C=OO'\n",
      "[19:23:08] SMILES Parse Error: extra close parentheses while parsing: FFOFOOOFFOFOOOFFFOOOOFFOOOFOFOFOFFIOFFOFFOOFFFOOFFFFOOOFOOOOOOOOFFOOOOIOOFFOOOFFFOIFFOFCOOCOOFFFOIFIOOOFFFFFCFFFOFFFFFFFFOFFOFFFOOFFFFCFFFOFFFFFFFFFFFFFFFFFFFF)C=O))\n",
      "[19:23:08] SMILES Parse Error: check for mistakes around position 160:\n",
      "[19:23:08] FFFFFFFFFFFFFFFFFFFF)C=O))\n",
      "[19:23:08] ~~~~~~~~~~~~~~~~~~~~^\n",
      "[19:23:08] SMILES Parse Error: Failed parsing SMILES 'FFOFOOOFFOFOOOFFFOOOOFFOOOFOFOFOFFIOFFOFFOOFFFOOFFFFOOOFOOOOOOOOFFOOOOIOOFFOOOFFFOIFFOFCOOCOOFFFOIFIOOOFFFFFCFFFOFFFFFFFFOFFOFFFOOFFFFCFFFOFFFFFFFFFFFFFFFFFFFF)C=O))' for input: 'FFOFOOOFFOFOOOFFFOOOOFFOOOFOFOFOFFIOFFOFFOOFFFOOFFFFOOOFOOOOOOOOFFOOOOIOOFFOOOFFFOIFFOFCOOCOOFFFOIFIOOOFFFFFCFFFOFFFFFFFFOFFOFFFOOFFFFCFFFOFFFFFFFFFFFFFFFFFFFF)C=O))'\n",
      "[19:23:14] SMILES Parse Error: extra close parentheses while parsing: FOOFOOOOOFOFOOCFFOFOOFOOOFFOFFFOFOIFOOFOFFIFOFFOFOOFOFOOOFOOFFFFOFFIFFFFFFFOOOOFOIFFFOFIOFFIOOIOOOFFFOOOOOOOOFFIOOOFOFFOFFOFOOOOFOFFOOOFFFFFFFFFOFFFFFFFFFFFFFFF)C=OO\n",
      "[19:23:14] SMILES Parse Error: check for mistakes around position 161:\n",
      "[19:23:14] FFFFOFFFFFFFFFFFFFFF)C=OO\n",
      "[19:23:14] ~~~~~~~~~~~~~~~~~~~~^\n",
      "[19:23:14] SMILES Parse Error: Failed parsing SMILES 'FOOFOOOOOFOFOOCFFOFOOFOOOFFOFFFOFOIFOOFOFFIFOFFOFOOFOFOOOFOOFFFFOFFIFFFFFFFOOOOFOIFFFOFIOFFIOOIOOOFFFOOOOOOOOFFIOOOFOFFOFFOFOOOOFOFFOOOFFFFFFFFFOFFFFFFFFFFFFFFF)C=OO' for input: 'FOOFOOOOOFOFOOCFFOFOOFOOOFFOFFFOFOIFOOFOFFIFOFFOFOOFOFOOOFOOFFFFOFFIFFFFFFFOOOOFOIFFFOFIOFFIOOIOOOFFFOOOOOOOOFFIOOOFOFFOFFOFOOOOFOFFOOOFFFFFFFFFOFFFFFFFFFFFFFFF)C=OO'\n",
      "[19:23:21] SMILES Parse Error: extra close parentheses while parsing: OOOOOOFOOOOOCFOOFOOCIIOOFFFOOFOOOOFOFFCOIFOOOFIOOFOFFOFFOOOOFFOFFFFFFFOFOFFFFFFFOFFOOFOFFOOOOOOOFOFOOOIFFOOOOOOOOFOOOOOOCFOFFFFOFFFFFFOFFFFFOFFFFFFFFFFFFFFFFFF)C=F))\n",
      "[19:23:21] SMILES Parse Error: check for mistakes around position 160:\n",
      "[19:23:21] FOFFFFFFFFFFFFFFFFFF)C=F))\n",
      "[19:23:21] ~~~~~~~~~~~~~~~~~~~~^\n",
      "[19:23:21] SMILES Parse Error: Failed parsing SMILES 'OOOOOOFOOOOOCFOOFOOCIIOOFFFOOFOOOOFOFFCOIFOOOFIOOFOFFOFFOOOOFFOFFFFFFFOFOFFFFFFFOFFOOFOFFOOOOOOOFOFOOOIFFOOOOOOOOFOOOOOOCFOFFFFOFFFFFFOFFFFFOFFFFFFFFFFFFFFFFFF)C=F))' for input: 'OOOOOOFOOOOOCFOOFOOCIIOOFFFOOFOOOOFOFFCOIFOOOFIOOFOFFOFFOOOOFFOFFFFFFFOFOFFFFFFFOFFOOFOFFOOOOOOOFOFOOOIFFOOOOOOOOFOOOOOOCFOFFFFOFFFFFFOFFFFFOFFFFFFFFFFFFFFFFFF)C=F))'\n",
      "[19:23:28] SMILES Parse Error: extra close parentheses while parsing: OFOOOIOFOOFOOFFFOOOOOFCFOFOFOOOFOOOOOOOFFOIOFFOOFFOOCOOFFOOFFFOOOFFFFFOFOOOCFOFOFFFFOOFOFFFIFIOFFIOFFOFFFFFOOFOIFOFOOOOOOFFFFOOFOFFOFOFFIFFOOOFFFFFFFFFFFFFFFFFF)C=OO\n",
      "[19:23:28] SMILES Parse Error: check for mistakes around position 161:\n",
      "[19:23:28] OOFFFFFFFFFFFFFFFFFF)C=OO\n",
      "[19:23:28] ~~~~~~~~~~~~~~~~~~~~^\n",
      "[19:23:28] SMILES Parse Error: Failed parsing SMILES 'OFOOOIOFOOFOOFFFOOOOOFCFOFOFOOOFOOOOOOOFFOIOFFOOFFOOCOOFFOOFFFOOOFFFFFOFOOOCFOFOFFFFOOFOFFFIFIOFFIOFFOFFFFFOOFOIFOFOOOOOOFFFFOOFOFFOFOFFIFFOOOFFFFFFFFFFFFFFFFFF)C=OO' for input: 'OFOOOIOFOOFOOFFFOOOOOFCFOFOFOOOFOOOOOOOFFOIOFFOOFFOOCOOFFOOFFFOOOFFFFFOFOOOCFOFOFFFFOOFOFFFIFIOFFIOFFOFFFFFOOFOIFOFOOOOOOFFFFOOFOFFOFOFFIFFOOOFFFFFFFFFFFFFFFFFF)C=OO'\n",
      "[19:23:34] SMILES Parse Error: extra close parentheses while parsing: FFFOOFFOOOOOOOOOOOFOOOOFFOOOOIOFFOFOOOOOOFFFOOOOFOFFOOOFIOOOFOIOFFOFOFFOFFOFFFFFFOFFOOOOFOFOFFFFFOOFFFOOOOOFFFOOFFOOFFFFFFIIOIFFFFFFFFOOFFFFFFOFOFFFFFFFFFFFFF)C=F)((\n",
      "[19:23:34] SMILES Parse Error: check for mistakes around position 159:\n",
      "[19:23:34] FFFFOFOFFFFFFFFFFFFF)C=F)((\n",
      "[19:23:34] ~~~~~~~~~~~~~~~~~~~~^\n",
      "[19:23:34] SMILES Parse Error: Failed parsing SMILES 'FFFOOFFOOOOOOOOOOOFOOOOFFOOOOIOFFOFOOOOOOFFFOOOOFOFFOOOFIOOOFOIOFFOFOFFOFFOFFFFFFOFFOOOOFOFOFFFFFOOFFFOOOOOFFFOOFFOOFFFFFFIIOIFFFFFFFFOOFFFFFFOFOFFFFFFFFFFFFF)C=F)((' for input: 'FFFOOFFOOOOOOOOOOOFOOOOFFOOOOIOFFOFOOOOOOFFFOOOOFOFFOOOFIOOOFOIOFFOFOFFOFFOFFFFFFOFFOOOOFOFOFFFFFOOFFFOOOOOFFFOOFFOOFFFFFFIIOIFFFFFFFFOOFFFFFFOFOFFFFFFFFFFFFF)C=F)(('\n",
      "[19:23:41] SMILES Parse Error: syntax error while parsing: OIOOOOFFFFFOOOOOOFFFOCOFFOOFOFOFOFFFFFIOOOOOFOFFFOOOFOOOOOOOOOFOFFFFFOFOOOFFOOOOOOOOFFFIOCFFOOFOFOOFOFFOFFOFOOFFOOFOOOOOOOOFOFOOFFFOOOOFFFFFFIFFFFFFFFFFFFFFFFFFF=)SC\n",
      "[19:23:41] SMILES Parse Error: check for mistakes around position 163:\n",
      "[19:23:41] FFFFFFFFFFFFFFFFFFF=)SC\n",
      "[19:23:41] ~~~~~~~~~~~~~~~~~~~~^\n",
      "[19:23:41] SMILES Parse Error: Failed parsing SMILES 'OIOOOOFFFFFOOOOOOFFFOCOFFOOFOFOFOFFFFFIOOOOOFOFFFOOOFOOOOOOOOOFOFFFFFOFOOOFFOOOOOOOOFFFIOCFFOOFOFOOFOFFOFFOFOOFFOOFOOOOOOOOFOFOOFFFOOOOFFFFFFIFFFFFFFFFFFFFFFFFFF=)SC' for input: 'OIOOOOFFFFFOOOOOOFFFOCOFFOOFOFOFOFFFFFIOOOOOFOFFFOOOFOOOOOOOOOFOFFFFFOFOOOFFOOOOOOOOFFFIOCFFOOFOFOOFOFFOFFOFOOFFOOFOOOOOOOOFOFOOFFFOOOOFFFFFFIFFFFFFFFFFFFFFFFFFF=)SC'\n",
      "[19:23:47] SMILES Parse Error: extra close parentheses while parsing: OOOOOFFOOFOFFOOIOFOOFOOFOOOIFOFFFFFOFFIOOFOOOFOFFOOFOFOOOOFOOFFFFFFFFOOOOOFFCOFFFOOOFFFFOFFOFOOOOOFFOCOOOOOFOFFOFFOFOFFFFOOFFFOOFFFFFFFFFFFOFFFFOFFFFFFFFFFFFFF=O)C((\n",
      "[19:23:47] SMILES Parse Error: check for mistakes around position 162:\n",
      "[19:23:47] FFFOFFFFFFFFFFFFFF=O)C((\n",
      "[19:23:47] ~~~~~~~~~~~~~~~~~~~~^\n",
      "[19:23:47] SMILES Parse Error: Failed parsing SMILES 'OOOOOFFOOFOFFOOIOFOOFOOFOOOIFOFFFFFOFFIOOFOOOFOFFOOFOFOOOOFOOFFFFFFFFOOOOOFFCOFFFOOOFFFFOFFOFOOOOOFFOCOOOOOFOFFOFFOFOFFFFOOFFFOOFFFFFFFFFFFOFFFFOFFFFFFFFFFFFFF=O)C((' for input: 'OOOOOFFOOFOFFOOIOFOOFOOFOOOIFOFFFFFOFFIOOFOOOFOFFOOFOFOOOOFOOFFFFFFFFOOOOOFFCOFFFOOOFFFFOFFOFOOOOOFFOCOOOOOFOFFOFFOFOFFFFOOFFFOOFFFFFFFFFFFOFFFFOFFFFFFFFFFFFFF=O)C(('\n",
      "[19:23:54] SMILES Parse Error: extra close parentheses while parsing: FOOCOOFFCFOOOOFOOOFIFOOIOOFIOFIOOFIFOFOFFIOOOFOOFOOOFOOIFFOFFFOFFOFFOOFFOFFFIFFOFFOFFOFFOOFFOFOFOOOFFOOOOFOOOFFFIOOFFFOOOFFFFFFFFFFOFFFFOOOFFFFFOFFFFFFFFFFFFFFF)C=OO\n",
      "[19:23:54] SMILES Parse Error: check for mistakes around position 161:\n",
      "[19:23:54] FFFFOFFFFFFFFFFFFFFF)C=OO\n",
      "[19:23:54] ~~~~~~~~~~~~~~~~~~~~^\n",
      "[19:23:54] SMILES Parse Error: Failed parsing SMILES 'FOOCOOFFCFOOOOFOOOFIFOOIOOFIOFIOOFIFOFOFFIOOOFOOFOOOFOOIFFOFFFOFFOFFOOFFOFFFIFFOFFOFFOFFOOFFOFOFOOOFFOOOOFOOOFFFIOOFFFOOOFFFFFFFFFFOFFFFOOOFFFFFOFFFFFFFFFFFFFFF)C=OO' for input: 'FOOCOOFFCFOOOOFOOOFIFOOIOOFIOFIOOFIFOFOFFIOOOFOOFOOOFOOIFFOFFFOFFOFFOOFFOFFFIFFOFFOFFOFFOOFFOFOFOOOFFOOOOFOOOFFFIOOFFFOOOFFFFFFFFFFOFFFFOOOFFFFFOFFFFFFFFFFFFFFF)C=OO'\n",
      "[19:24:00] SMILES Parse Error: syntax error while parsing: FOOFOFOOFOFFOFOFOOFFFFFOFOOOFIFFOFFFOOFOOOFOFOOOFFOOFOFFCFOFOFOOFFFOOOOOFFFOOOFFFFFFFFOFFFFFOFOFOFIOOOOOFOFOFFFOFOFFOFOOOFFOCCOFFFFFFOOOFFFFFFFFFFFFOFFFFFFFFFFF=)C((\n",
      "[19:24:00] SMILES Parse Error: check for mistakes around position 162:\n",
      "[19:24:00] FFFFFFFOFFFFFFFFFFF=)C((\n",
      "[19:24:00] ~~~~~~~~~~~~~~~~~~~~^\n",
      "[19:24:00] SMILES Parse Error: Failed parsing SMILES 'FOOFOFOOFOFFOFOFOOFFFFFOFOOOFIFFOFFFOOFOOOFOFOOOFFOOFOFFCFOFOFOOFFFOOOOOFFFOOOFFFFFFFFOFFFFFOFOFOFIOOOOOFOFOFFFOFOFFOFOOOFFOCCOFFFFFFOOOFFFFFFFFFFFFOFFFFFFFFFFF=)C((' for input: 'FOOFOFOOFOFFOFOFOOFFFFFOFOOOFIFFOFFFOOFOOOFOFOOOFFOOFOFFCFOFOFOOFFFOOOOOFFFOOOFFFFFFFFOFFFFFOFOFOFIOOOOOFOFOFFFOFOFFOFOOOFFOCCOFFFFFFOOOFFFFFFFFFFFFOFFFFFFFFFFF=)C(('\n",
      "[19:24:07] SMILES Parse Error: extra close parentheses while parsing: FFOOOOOOIFIIFFOFFOOOOOFFFOOFOFFOCOOCFOOFOFOFOOFOCOOOFFOOFOCFFOO)OOOOOOCOFOOOOFOOFFFOFOOFOOOOFFFCOFOOFFOFOOFOOFOOOFFOFOFFFFFFOOFFFOFFOFFFFOOFFFFFFFFFFFFFFFFFFFFF=)C((\n",
      "[19:24:07] SMILES Parse Error: check for mistakes around position 64:\n",
      "[19:24:07] FOOFOCOOOFFOOFOCFFOO)OOOOOOCOFOOOOFOOFFFO\n",
      "[19:24:07] ~~~~~~~~~~~~~~~~~~~~^\n",
      "[19:24:07] SMILES Parse Error: Failed parsing SMILES 'FFOOOOOOIFIIFFOFFOOOOOFFFOOFOFFOCOOCFOOFOFOFOOFOCOOOFFOOFOCFFOO)OOOOOOCOFOOOOFOOFFFOFOOFOOOOFFFCOFOOFFOFOOFOOFOOOFFOFOFFFFFFOOFFFOFFOFFFFOOFFFFFFFFFFFFFFFFFFFFF=)C((' for input: 'FFOOOOOOIFIIFFOFFOOOOOFFFOOFOFFOCOOCFOOFOFOFOOFOCOOOFFOOFOCFFOO)OOOOOOCOFOOOOFOOFFFOFOOFOOOOFFFCOFOOFFOFOOFOOFOOOFFOFOFFFFFFOOFFFOFFOFFFFOOFFFFFFFFFFFFFFFFFFFFF=)C(('\n",
      "[19:24:13] SMILES Parse Error: extra close parentheses while parsing: FOFOOOFFOOOOOOOFFOOFIFFFOOFOOOFFFOFFOOOOFOOOFOFOFOIOOOFOOOOIOOFFOFOOFOFFOFFFOOOOFOOOFFOFFOFFFOOOIFOFIFFIFFFOOOFCFIFFCOOFFIFOFFFOFFOFOIOOFFFFOOFFFFOFFFFFFFFFFFF)C=O))\n",
      "[19:24:13] SMILES Parse Error: check for mistakes around position 160:\n",
      "[19:24:13] FOOFFFFOFFFFFFFFFFFF)C=O))\n",
      "[19:24:13] ~~~~~~~~~~~~~~~~~~~~^\n",
      "[19:24:13] SMILES Parse Error: Failed parsing SMILES 'FOFOOOFFOOOOOOOFFOOFIFFFOOFOOOFFFOFFOOOOFOOOFOFOFOIOOOFOOOOIOOFFOFOOFOFFOFFFOOOOFOOOFFOFFOFFFOOOIFOFIFFIFFFOOOFCFIFFCOOFFIFOFFFOFFOFOIOOFFFFOOFFFFOFFFFFFFFFFFF)C=O))' for input: 'FOFOOOFFOOOOOOOFFOOFIFFFOOFOOOFFFOFFOOOOFOOOFOFOFOIOOOFOOOOIOOFFOFOOFOFFOFFFOOOOFOOOFFOFFOFFFOOOIFOFIFFIFFFOOOFCFIFFCOOFFIFOFFFOFFOFOIOOFFFFOOFFFFOFFFFFFFFFFFF)C=O))'\n",
      "[19:24:20] SMILES Parse Error: syntax error while parsing: OFOFOOOFIFFCOFFOOCOOOOOFOOFOOOOOOOOOOFFFFOOOOFOOOFOFOFOOOFOOOOOOFFFOFFFOFFFOFFFIOOFOOOOFOIFFOOOCFOOFFFFOOOOFFOOFFFFOOFOOOOOOFFOOFOOFFFFOOFFOFFFFFFFFFFFFFFFFFFFF=)C((\n",
      "[19:24:20] SMILES Parse Error: check for mistakes around position 162:\n",
      "[19:24:20] FFFFFFFFFFFFFFFFFFF=)C((\n",
      "[19:24:20] ~~~~~~~~~~~~~~~~~~~~^\n",
      "[19:24:20] SMILES Parse Error: Failed parsing SMILES 'OFOFOOOFIFFCOFFOOCOOOOOFOOFOOOOOOOOOOFFFFOOOOFOOOFOFOFOOOFOOOOOOFFFOFFFOFFFOFFFIOOFOOOOFOIFFOOOCFOOFFFFOOOOFFOOFFFFOOFOOOOOOFFOOFOOFFFFOOFFOFFFFFFFFFFFFFFFFFFFF=)C((' for input: 'OFOFOOOFIFFCOFFOOCOOOOOFOOFOOOOOOOOOOFFFFOOOOFOOOFOFOFOOOFOOOOOOFFFOFFFOFFFOFFFIOOFOOOOFOIFFOOOCFOOFFFFOOOOFFOOFFFFOOFOOOOOOFFOOFOOFFFFOOFFOFFFFFFFFFFFFFFFFFFFF=)C(('\n",
      "[19:24:27] SMILES Parse Error: extra close parentheses while parsing: FIFOOOFFOFFFOOFOFFIOOFOOFOOFFFFOFIFFOOOFFCFOFFOFFOFOOOFIOOOFOFFFOFCOOFFFOFOOFOFOOCOIFFFFFOOFOOIOOOIFOFFFFFFFOOOOOOOOOFFFFIFOOOOOFFFFFFFFOOFFFOFFFFFFFFFFFFFFFFF)C=F))\n",
      "[19:24:27] SMILES Parse Error: check for mistakes around position 160:\n",
      "[19:24:27] FFOFFFFFFFFFFFFFFFFF)C=F))\n",
      "[19:24:27] ~~~~~~~~~~~~~~~~~~~~^\n",
      "[19:24:27] SMILES Parse Error: Failed parsing SMILES 'FIFOOOFFOFFFOOFOFFIOOFOOFOOFFFFOFIFFOOOFFCFOFFOFFOFOOOFIOOOFOFFFOFCOOFFFOFOOFOFOOCOIFFFFFOOFOOIOOOIFOFFFFFFFOOOOOOOOOFFFFIFOOOOOFFFFFFFFOOFFFOFFFFFFFFFFFFFFFFF)C=F))' for input: 'FIFOOOFFOFFFOOFOFFIOOFOOFOOFFFFOFIFFOOOFFCFOFFOFFOFOOOFIOOOFOFFFOFCOOFFFOFOOFOFOOCOIFFFFFOOFOOIOOOIFOFFFFFFFOOOOOOOOOFFFFIFOOOOOFFFFFFFFOOFFFOFFFFFFFFFFFFFFFFF)C=F))'\n",
      "[19:24:34] SMILES Parse Error: extra close parentheses while parsing: IFFOFOOFOOOOFFOFOOOFFFOIOOOFFFCOFOOFOFFFOIFFFOOOFOOFFOIFOOOOIOOIIOOFFFFOFOFOOOFOOFOIOOOOFFFFFOOFFOOFOFFCOFFOOFIFFOOFFOFFOFFOOFFFFFFOOFFFOFFFOOOFFFFFFFFFFFFFFFFF)C=OO\n",
      "[19:24:34] SMILES Parse Error: check for mistakes around position 161:\n",
      "[19:24:34] OOOFFFFFFFFFFFFFFFFF)C=OO\n",
      "[19:24:34] ~~~~~~~~~~~~~~~~~~~~^\n",
      "[19:24:34] SMILES Parse Error: Failed parsing SMILES 'IFFOFOOFOOOOFFOFOOOFFFOIOOOFFFCOFOOFOFFFOIFFFOOOFOOFFOIFOOOOIOOIIOOFFFFOFOFOOOFOOFOIOOOOFFFFFOOFFOOFOFFCOFFOOFIFFOOFFOFFOFFOOFFFFFFOOFFFOFFFOOOFFFFFFFFFFFFFFFFF)C=OO' for input: 'IFFOFOOFOOOOFFOFOOOFFFOIOOOFFFCOFOOFOFFFOIFFFOOOFOOFFOIFOOOOIOOIIOOFFFFOFOFOOOFOOFOIOOOOFFFFFOOFFOOFOFFCOFFOOFIFFOOFFOFFOFFOOFFFFFFOOFFFOFFFOOOFFFFFFFFFFFFFFFFF)C=OO'\n",
      "[19:24:40] SMILES Parse Error: extra close parentheses while parsing: OFFOFOFOOFFOOIOOFFOOFOFOOOOOOFFFOOFOFOOFOOFFOOFOOOOOFOFFFFOOFFFOFIOFOOFFOOFFOFFFFOFFFFOFFOFFFFFFFFOOFFFIOOCFFOFOFFIFOOOFOFFOFOOFFFFOFFFFOICFFFFOFFFFFFFFFFFFFFFF)C=OO\n",
      "[19:24:40] SMILES Parse Error: check for mistakes around position 161:\n",
      "[19:24:40] FFFOFFFFFFFFFFFFFFFF)C=OO\n",
      "[19:24:40] ~~~~~~~~~~~~~~~~~~~~^\n",
      "[19:24:40] SMILES Parse Error: Failed parsing SMILES 'OFFOFOFOOFFOOIOOFFOOFOFOOOOOOFFFOOFOFOOFOOFFOOFOOOOOFOFFFFOOFFFOFIOFOOFFOOFFOFFFFOFFFFOFFOFFFFFFFFOOFFFIOOCFFOFOFFIFOOOFOFFOFOOFFFFOFFFFOICFFFFOFFFFFFFFFFFFFFFF)C=OO' for input: 'OFFOFOFOOFFOOIOOFFOOFOFOOOOOOFFFOOFOFOOFOOFFOOFOOOOOFOFFFFOOFFFOFIOFOOFFOOFFOFFFFOFFFFOFFOFFFFFFFFOOFFFIOOCFFOFOFFIFOOOFOFFOFOOFFFFOFFFFOICFFFFOFFFFFFFFFFFFFFFF)C=OO'\n",
      "[19:24:47] SMILES Parse Error: extra close parentheses while parsing: FFOOOIOOOFFFOCFOFFOOFOOFFOFCOFOOOIFFOOOFOFFOFFOOOOOOOFFFFOFFOOIFFCOCOOIOFOFOOOOFOOOOIOOFFFOFIFOOOFOOFFOFFCOFOFOFOFOFFFOFFFFFOFFFFFOFFFFFOFFFFFFFFFFFFFFFFFFFFFFFF)C((\n",
      "[19:24:47] SMILES Parse Error: check for mistakes around position 162:\n",
      "[19:24:47] FFFFFFFFFFFFFFFFFFFF)C((\n",
      "[19:24:47] ~~~~~~~~~~~~~~~~~~~~^\n",
      "[19:24:47] SMILES Parse Error: Failed parsing SMILES 'FFOOOIOOOFFFOCFOFFOOFOOFFOFCOFOOOIFFOOOFOFFOFFOOOOOOOFFFFOFFOOIFFCOCOOIOFOFOOOOFOOOOIOOFFFOFIFOOOFOOFFOFFCOFOFOFOFOFFFOFFFFFOFFFFFOFFFFFOFFFFFFFFFFFFFFFFFFFFFFFF)C((' for input: 'FFOOOIOOOFFFOCFOFFOOFOOFFOFCOFOOOIFFOOOFOFFOFFOOOOOOOFFFFOFFOOIFFCOCOOIOFOFOOOOFOOOOIOOFFFOFIFOOOFOOFFOFFCOFOFOFOFOFFFOFFFFFOFFFFFOFFFFFOFFFFFFFFFFFFFFFFFFFFFFFF)C(('\n"
     ]
    },
    {
     "ename": "KeyboardInterrupt",
     "evalue": "",
     "output_type": "error",
     "traceback": [
      "\u001b[0;31m---------------------------------------------------------------------------\u001b[0m",
      "\u001b[0;31mKeyboardInterrupt\u001b[0m                         Traceback (most recent call last)",
      "Cell \u001b[0;32mIn[74], line 7\u001b[0m\n\u001b[1;32m      5\u001b[0m pbar \u001b[38;5;241m=\u001b[39m tqdm(total\u001b[38;5;241m=\u001b[39mnum_molecules)\n\u001b[1;32m      6\u001b[0m \u001b[38;5;28;01mwhile\u001b[39;00m \u001b[38;5;28mlen\u001b[39m(generated_smiles) \u001b[38;5;241m<\u001b[39m num_molecules:\n\u001b[0;32m----> 7\u001b[0m     new_mol \u001b[38;5;241m=\u001b[39m \u001b[43mgenerate_molecule\u001b[49m\u001b[43m(\u001b[49m\u001b[38;5;124;43m'\u001b[39;49m\u001b[38;5;124;43m<\u001b[39;49m\u001b[38;5;124;43m'\u001b[39;49m\u001b[43m,\u001b[49m\u001b[43m \u001b[49m\u001b[43mmodel\u001b[49m\u001b[43m,\u001b[49m\u001b[43m \u001b[49m\u001b[43mchar_to_idx\u001b[49m\u001b[43m,\u001b[49m\u001b[43m \u001b[49m\u001b[43midx_to_char\u001b[49m\u001b[43m,\u001b[49m\u001b[43m \u001b[49m\u001b[43mmax_length\u001b[49m\u001b[43m,\u001b[49m\u001b[43m \u001b[49m\u001b[43mtemp\u001b[49m\u001b[38;5;241;43m=\u001b[39;49m\u001b[38;5;241;43m0.5\u001b[39;49m\u001b[43m)\u001b[49m\n\u001b[1;32m     10\u001b[0m     \u001b[38;5;28;01mif\u001b[39;00m new_mol:\n\u001b[1;32m     11\u001b[0m         mol \u001b[38;5;241m=\u001b[39m Chem\u001b[38;5;241m.\u001b[39mMolFromSmiles(new_mol)\n",
      "Cell \u001b[0;32mIn[73], line 22\u001b[0m, in \u001b[0;36mgenerate_molecule\u001b[0;34m(seed_char, model, char_to_idx, idx_to_char, max_length, temp, max_retries)\u001b[0m\n\u001b[1;32m     19\u001b[0m         x_pred[\u001b[38;5;241m0\u001b[39m, t] \u001b[38;5;241m=\u001b[39m char_to_idx\u001b[38;5;241m.\u001b[39mget(char, \u001b[38;5;241m0\u001b[39m)  \u001b[38;5;66;03m# Handle unknown chars\u001b[39;00m\n\u001b[1;32m     21\u001b[0m \u001b[38;5;66;03m# Get predictions and apply temperature\u001b[39;00m\n\u001b[0;32m---> 22\u001b[0m preds \u001b[38;5;241m=\u001b[39m \u001b[43mmodel\u001b[49m\u001b[38;5;241;43m.\u001b[39;49m\u001b[43mpredict\u001b[49m\u001b[43m(\u001b[49m\u001b[43mx_pred\u001b[49m\u001b[43m,\u001b[49m\u001b[43m \u001b[49m\u001b[43mverbose\u001b[49m\u001b[38;5;241;43m=\u001b[39;49m\u001b[38;5;241;43m0\u001b[39;49m\u001b[43m)\u001b[49m[\u001b[38;5;241m0\u001b[39m]\n\u001b[1;32m     23\u001b[0m preds \u001b[38;5;241m=\u001b[39m np\u001b[38;5;241m.\u001b[39mlog(np\u001b[38;5;241m.\u001b[39mclip(preds, \u001b[38;5;241m1e-10\u001b[39m, \u001b[38;5;28;01mNone\u001b[39;00m)) \u001b[38;5;241m/\u001b[39m temp\n\u001b[1;32m     24\u001b[0m exp_preds \u001b[38;5;241m=\u001b[39m np\u001b[38;5;241m.\u001b[39mexp(preds)\n",
      "File \u001b[0;32m~/Documents/CH5650 - Molecular DS/Assignment 6/.venv/lib/python3.9/site-packages/keras/src/utils/traceback_utils.py:117\u001b[0m, in \u001b[0;36mfilter_traceback.<locals>.error_handler\u001b[0;34m(*args, **kwargs)\u001b[0m\n\u001b[1;32m    115\u001b[0m filtered_tb \u001b[38;5;241m=\u001b[39m \u001b[38;5;28;01mNone\u001b[39;00m\n\u001b[1;32m    116\u001b[0m \u001b[38;5;28;01mtry\u001b[39;00m:\n\u001b[0;32m--> 117\u001b[0m     \u001b[38;5;28;01mreturn\u001b[39;00m \u001b[43mfn\u001b[49m\u001b[43m(\u001b[49m\u001b[38;5;241;43m*\u001b[39;49m\u001b[43margs\u001b[49m\u001b[43m,\u001b[49m\u001b[43m \u001b[49m\u001b[38;5;241;43m*\u001b[39;49m\u001b[38;5;241;43m*\u001b[39;49m\u001b[43mkwargs\u001b[49m\u001b[43m)\u001b[49m\n\u001b[1;32m    118\u001b[0m \u001b[38;5;28;01mexcept\u001b[39;00m \u001b[38;5;167;01mException\u001b[39;00m \u001b[38;5;28;01mas\u001b[39;00m e:\n\u001b[1;32m    119\u001b[0m     filtered_tb \u001b[38;5;241m=\u001b[39m _process_traceback_frames(e\u001b[38;5;241m.\u001b[39m__traceback__)\n",
      "File \u001b[0;32m~/Documents/CH5650 - Molecular DS/Assignment 6/.venv/lib/python3.9/site-packages/keras/src/backend/tensorflow/trainer.py:499\u001b[0m, in \u001b[0;36mTensorFlowTrainer.predict\u001b[0;34m(self, x, batch_size, verbose, steps, callbacks)\u001b[0m\n\u001b[1;32m    494\u001b[0m \u001b[38;5;129m@traceback_utils\u001b[39m\u001b[38;5;241m.\u001b[39mfilter_traceback\n\u001b[1;32m    495\u001b[0m \u001b[38;5;28;01mdef\u001b[39;00m\u001b[38;5;250m \u001b[39m\u001b[38;5;21mpredict\u001b[39m(\n\u001b[1;32m    496\u001b[0m     \u001b[38;5;28mself\u001b[39m, x, batch_size\u001b[38;5;241m=\u001b[39m\u001b[38;5;28;01mNone\u001b[39;00m, verbose\u001b[38;5;241m=\u001b[39m\u001b[38;5;124m\"\u001b[39m\u001b[38;5;124mauto\u001b[39m\u001b[38;5;124m\"\u001b[39m, steps\u001b[38;5;241m=\u001b[39m\u001b[38;5;28;01mNone\u001b[39;00m, callbacks\u001b[38;5;241m=\u001b[39m\u001b[38;5;28;01mNone\u001b[39;00m\n\u001b[1;32m    497\u001b[0m ):\n\u001b[1;32m    498\u001b[0m     \u001b[38;5;66;03m# Create an iterator that yields batches of input data.\u001b[39;00m\n\u001b[0;32m--> 499\u001b[0m     epoch_iterator \u001b[38;5;241m=\u001b[39m \u001b[43mTFEpochIterator\u001b[49m\u001b[43m(\u001b[49m\n\u001b[1;32m    500\u001b[0m \u001b[43m        \u001b[49m\u001b[43mx\u001b[49m\u001b[38;5;241;43m=\u001b[39;49m\u001b[43mx\u001b[49m\u001b[43m,\u001b[49m\n\u001b[1;32m    501\u001b[0m \u001b[43m        \u001b[49m\u001b[43mbatch_size\u001b[49m\u001b[38;5;241;43m=\u001b[39;49m\u001b[43mbatch_size\u001b[49m\u001b[43m,\u001b[49m\n\u001b[1;32m    502\u001b[0m \u001b[43m        \u001b[49m\u001b[43msteps_per_epoch\u001b[49m\u001b[38;5;241;43m=\u001b[39;49m\u001b[43msteps\u001b[49m\u001b[43m,\u001b[49m\n\u001b[1;32m    503\u001b[0m \u001b[43m        \u001b[49m\u001b[43mshuffle\u001b[49m\u001b[38;5;241;43m=\u001b[39;49m\u001b[38;5;28;43;01mFalse\u001b[39;49;00m\u001b[43m,\u001b[49m\n\u001b[1;32m    504\u001b[0m \u001b[43m        \u001b[49m\u001b[43mdistribute_strategy\u001b[49m\u001b[38;5;241;43m=\u001b[39;49m\u001b[38;5;28;43mself\u001b[39;49m\u001b[38;5;241;43m.\u001b[39;49m\u001b[43mdistribute_strategy\u001b[49m\u001b[43m,\u001b[49m\n\u001b[1;32m    505\u001b[0m \u001b[43m        \u001b[49m\u001b[43msteps_per_execution\u001b[49m\u001b[38;5;241;43m=\u001b[39;49m\u001b[38;5;28;43mself\u001b[39;49m\u001b[38;5;241;43m.\u001b[39;49m\u001b[43msteps_per_execution\u001b[49m\u001b[43m,\u001b[49m\n\u001b[1;32m    506\u001b[0m \u001b[43m    \u001b[49m\u001b[43m)\u001b[49m\n\u001b[1;32m    508\u001b[0m     \u001b[38;5;66;03m# Container that configures and calls callbacks.\u001b[39;00m\n\u001b[1;32m    509\u001b[0m     \u001b[38;5;28;01mif\u001b[39;00m \u001b[38;5;129;01mnot\u001b[39;00m \u001b[38;5;28misinstance\u001b[39m(callbacks, callbacks_module\u001b[38;5;241m.\u001b[39mCallbackList):\n",
      "File \u001b[0;32m~/Documents/CH5650 - Molecular DS/Assignment 6/.venv/lib/python3.9/site-packages/keras/src/backend/tensorflow/trainer.py:720\u001b[0m, in \u001b[0;36mTFEpochIterator.__init__\u001b[0;34m(self, distribute_strategy, *args, **kwargs)\u001b[0m\n\u001b[1;32m    718\u001b[0m \u001b[38;5;28msuper\u001b[39m()\u001b[38;5;241m.\u001b[39m\u001b[38;5;21m__init__\u001b[39m(\u001b[38;5;241m*\u001b[39margs, \u001b[38;5;241m*\u001b[39m\u001b[38;5;241m*\u001b[39mkwargs)\n\u001b[1;32m    719\u001b[0m \u001b[38;5;28mself\u001b[39m\u001b[38;5;241m.\u001b[39m_distribute_strategy \u001b[38;5;241m=\u001b[39m distribute_strategy\n\u001b[0;32m--> 720\u001b[0m dataset \u001b[38;5;241m=\u001b[39m \u001b[38;5;28;43mself\u001b[39;49m\u001b[38;5;241;43m.\u001b[39;49m\u001b[43mdata_adapter\u001b[49m\u001b[38;5;241;43m.\u001b[39;49m\u001b[43mget_tf_dataset\u001b[49m\u001b[43m(\u001b[49m\u001b[43m)\u001b[49m\n\u001b[1;32m    721\u001b[0m \u001b[38;5;28;01mif\u001b[39;00m \u001b[38;5;129;01mnot\u001b[39;00m \u001b[38;5;28misinstance\u001b[39m(dataset, tf\u001b[38;5;241m.\u001b[39mdistribute\u001b[38;5;241m.\u001b[39mDistributedDataset):\n\u001b[1;32m    722\u001b[0m     dataset \u001b[38;5;241m=\u001b[39m \u001b[38;5;28mself\u001b[39m\u001b[38;5;241m.\u001b[39m_distribute_strategy\u001b[38;5;241m.\u001b[39mexperimental_distribute_dataset(\n\u001b[1;32m    723\u001b[0m         dataset\n\u001b[1;32m    724\u001b[0m     )\n",
      "File \u001b[0;32m~/Documents/CH5650 - Molecular DS/Assignment 6/.venv/lib/python3.9/site-packages/keras/src/trainers/data_adapters/array_data_adapter.py:241\u001b[0m, in \u001b[0;36mArrayDataAdapter.get_tf_dataset\u001b[0;34m(self)\u001b[0m\n\u001b[1;32m    237\u001b[0m options \u001b[38;5;241m=\u001b[39m tf\u001b[38;5;241m.\u001b[39mdata\u001b[38;5;241m.\u001b[39mOptions()\n\u001b[1;32m    238\u001b[0m options\u001b[38;5;241m.\u001b[39mexperimental_distribute\u001b[38;5;241m.\u001b[39mauto_shard_policy \u001b[38;5;241m=\u001b[39m (\n\u001b[1;32m    239\u001b[0m     tf\u001b[38;5;241m.\u001b[39mdata\u001b[38;5;241m.\u001b[39mexperimental\u001b[38;5;241m.\u001b[39mAutoShardPolicy\u001b[38;5;241m.\u001b[39mDATA\n\u001b[1;32m    240\u001b[0m )\n\u001b[0;32m--> 241\u001b[0m dataset \u001b[38;5;241m=\u001b[39m \u001b[43mdataset\u001b[49m\u001b[38;5;241;43m.\u001b[39;49m\u001b[43mwith_options\u001b[49m\u001b[43m(\u001b[49m\u001b[43moptions\u001b[49m\u001b[43m)\u001b[49m\n\u001b[1;32m    242\u001b[0m \u001b[38;5;28;01mreturn\u001b[39;00m dataset\u001b[38;5;241m.\u001b[39mprefetch(tf\u001b[38;5;241m.\u001b[39mdata\u001b[38;5;241m.\u001b[39mAUTOTUNE)\n",
      "File \u001b[0;32m~/Documents/CH5650 - Molecular DS/Assignment 6/.venv/lib/python3.9/site-packages/tensorflow/python/data/ops/dataset_ops.py:3012\u001b[0m, in \u001b[0;36mDatasetV2.with_options\u001b[0;34m(self, options, name)\u001b[0m\n\u001b[1;32m   2986\u001b[0m \u001b[38;5;28;01mdef\u001b[39;00m\u001b[38;5;250m \u001b[39m\u001b[38;5;21mwith_options\u001b[39m(\u001b[38;5;28mself\u001b[39m, options, name\u001b[38;5;241m=\u001b[39m\u001b[38;5;28;01mNone\u001b[39;00m) \u001b[38;5;241m-\u001b[39m\u001b[38;5;241m>\u001b[39m \u001b[38;5;124m\"\u001b[39m\u001b[38;5;124mDatasetV2\u001b[39m\u001b[38;5;124m\"\u001b[39m:\n\u001b[1;32m   2987\u001b[0m \u001b[38;5;250m  \u001b[39m\u001b[38;5;124;03m\"\"\"Returns a new `tf.data.Dataset` with the given options set.\u001b[39;00m\n\u001b[1;32m   2988\u001b[0m \n\u001b[1;32m   2989\u001b[0m \u001b[38;5;124;03m  The options are \"global\" in the sense they apply to the entire dataset.\u001b[39;00m\n\u001b[0;32m   (...)\u001b[0m\n\u001b[1;32m   3010\u001b[0m \u001b[38;5;124;03m    ValueError: when an option is set more than once to a non-default value\u001b[39;00m\n\u001b[1;32m   3011\u001b[0m \u001b[38;5;124;03m  \"\"\"\u001b[39;00m\n\u001b[0;32m-> 3012\u001b[0m   \u001b[38;5;28;01mreturn\u001b[39;00m \u001b[43m_OptionsDataset\u001b[49m\u001b[43m(\u001b[49m\u001b[38;5;28;43mself\u001b[39;49m\u001b[43m,\u001b[49m\u001b[43m \u001b[49m\u001b[43moptions\u001b[49m\u001b[43m,\u001b[49m\u001b[43m \u001b[49m\u001b[43mname\u001b[49m\u001b[38;5;241;43m=\u001b[39;49m\u001b[43mname\u001b[49m\u001b[43m)\u001b[49m\n",
      "File \u001b[0;32m~/Documents/CH5650 - Molecular DS/Assignment 6/.venv/lib/python3.9/site-packages/tensorflow/python/data/ops/dataset_ops.py:4906\u001b[0m, in \u001b[0;36m_OptionsDataset.__init__\u001b[0;34m(self, input_dataset, options, name)\u001b[0m\n\u001b[1;32m   4904\u001b[0m options_pb\u001b[38;5;241m.\u001b[39mCopyFrom(options\u001b[38;5;241m.\u001b[39m_to_proto())\n\u001b[1;32m   4905\u001b[0m \u001b[38;5;28mself\u001b[39m\u001b[38;5;241m.\u001b[39m_name \u001b[38;5;241m=\u001b[39m name\n\u001b[0;32m-> 4906\u001b[0m \u001b[38;5;28;01mwith\u001b[39;00m \u001b[43mops\u001b[49m\u001b[38;5;241;43m.\u001b[39;49m\u001b[43mcolocate_with\u001b[49m\u001b[43m(\u001b[49m\u001b[43minput_dataset\u001b[49m\u001b[38;5;241;43m.\u001b[39;49m\u001b[43m_variant_tensor\u001b[49m\u001b[43m)\u001b[49m:\n\u001b[1;32m   4907\u001b[0m   variant_tensor \u001b[38;5;241m=\u001b[39m gen_dataset_ops\u001b[38;5;241m.\u001b[39moptions_dataset(\n\u001b[1;32m   4908\u001b[0m       input_dataset\u001b[38;5;241m.\u001b[39m_variant_tensor, options_pb\u001b[38;5;241m.\u001b[39mSerializeToString(),\n\u001b[1;32m   4909\u001b[0m       \u001b[38;5;241m*\u001b[39m\u001b[38;5;241m*\u001b[39m\u001b[38;5;28mself\u001b[39m\u001b[38;5;241m.\u001b[39m_common_args)\n\u001b[1;32m   4910\u001b[0m \u001b[38;5;28msuper\u001b[39m(_OptionsDataset, \u001b[38;5;28mself\u001b[39m)\u001b[38;5;241m.\u001b[39m\u001b[38;5;21m__init__\u001b[39m(input_dataset, variant_tensor)\n",
      "File \u001b[0;32m~/Documents/CH5650 - Molecular DS/Assignment 6/.venv/lib/python3.9/site-packages/tensorflow/python/framework/ops.py:4523\u001b[0m, in \u001b[0;36mcolocate_with\u001b[0;34m(op, ignore_existing)\u001b[0m\n\u001b[1;32m   4522\u001b[0m \u001b[38;5;28;01mdef\u001b[39;00m\u001b[38;5;250m \u001b[39m\u001b[38;5;21mcolocate_with\u001b[39m(op, ignore_existing\u001b[38;5;241m=\u001b[39m\u001b[38;5;28;01mFalse\u001b[39;00m) \u001b[38;5;241m-\u001b[39m\u001b[38;5;241m>\u001b[39m ContextManager[\u001b[38;5;28;01mNone\u001b[39;00m]:\n\u001b[0;32m-> 4523\u001b[0m   \u001b[38;5;28;01mreturn\u001b[39;00m \u001b[43m_colocate_with_for_gradient\u001b[49m\u001b[43m(\u001b[49m\u001b[43mop\u001b[49m\u001b[43m,\u001b[49m\u001b[43m \u001b[49m\u001b[38;5;28;43;01mNone\u001b[39;49;00m\u001b[43m,\u001b[49m\u001b[43m \u001b[49m\u001b[43mignore_existing\u001b[49m\u001b[38;5;241;43m=\u001b[39;49m\u001b[43mignore_existing\u001b[49m\u001b[43m)\u001b[49m\n",
      "File \u001b[0;32m~/Documents/CH5650 - Molecular DS/Assignment 6/.venv/lib/python3.9/site-packages/tensorflow/python/framework/ops.py:4504\u001b[0m, in \u001b[0;36m_colocate_with_for_gradient\u001b[0;34m(op, gradient_uid, ignore_existing)\u001b[0m\n\u001b[1;32m   4502\u001b[0m   \u001b[38;5;28;01mif\u001b[39;00m \u001b[38;5;129;01mnot\u001b[39;00m \u001b[38;5;28mhasattr\u001b[39m(op, \u001b[38;5;124m\"\u001b[39m\u001b[38;5;124mdevice\u001b[39m\u001b[38;5;124m\"\u001b[39m):\n\u001b[1;32m   4503\u001b[0m     op \u001b[38;5;241m=\u001b[39m convert_to_tensor(op)\n\u001b[0;32m-> 4504\u001b[0m   \u001b[38;5;28;01mreturn\u001b[39;00m device(\u001b[43mop\u001b[49m\u001b[38;5;241;43m.\u001b[39;49m\u001b[43mdevice\u001b[49m)\n\u001b[1;32m   4505\u001b[0m \u001b[38;5;28;01melse\u001b[39;00m:\n\u001b[1;32m   4506\u001b[0m   \u001b[38;5;28;01mreturn\u001b[39;00m NullContextmanager()\n",
      "\u001b[0;31mKeyboardInterrupt\u001b[0m: "
     ]
    }
   ],
   "source": [
    "print(\"generating new molecules...\")\n",
    "generated_smiles = set()\n",
    "\n",
    "training_mols = [Chem.MolFromSmiles(s) for s in smiles_list if Chem.MolFromSmiles(s) is not None]\n",
    "pbar = tqdm(total=num_molecules)\n",
    "while len(generated_smiles) < num_molecules:\n",
    "    new_mol = generate_molecule('<', model, char_to_idx, idx_to_char, max_length, temp=0.5)\n",
    "    \n",
    "    \n",
    "    if new_mol:\n",
    "        mol = Chem.MolFromSmiles(new_mol)\n",
    "        if (mol and new_mol not in generated_smiles and new_mol not in smiles_list and all(not mol.HasSubstructMatch(train_mol) for train_mol in training_mols)):\n",
    "            generated_smiles.add(new_mol)\n",
    "            pbar.update(1)\n",
    "pbar.close()"
   ]
  },
  {
   "cell_type": "code",
   "execution_count": null,
   "metadata": {},
   "outputs": [],
   "source": [
    "valid_molecules = validate_molecules(list(generated_smiles))\n",
    "print(f\"Generated {len(valid_molecules)} valid molecules out of {num_molecules} attempts\")"
   ]
  },
  {
   "cell_type": "code",
   "execution_count": null,
   "metadata": {},
   "outputs": [],
   "source": [
    "results_df = calculate_properties(valid_molecules, training_mols)\n",
    "results_df.to_csv('generated_molecules.csv', index=False)\n",
    "if len(valid_molecules) > 0:\n",
    "        mols_to_draw = [mol for _, mol in valid_molecules[:10]]\n",
    "        img = Draw.MolsToGridImage(mols_to_draw, molsPerRow=5, subImgSize=(200, 200))\n",
    "        img.save('generated_molecules.png')"
   ]
  },
  {
   "cell_type": "code",
   "execution_count": null,
   "metadata": {},
   "outputs": [],
   "source": [
    "print(\"Top 10 generated molecules:\")\n",
    "print(results_df.head(10))"
   ]
  }
 ],
 "metadata": {
  "kernelspec": {
   "display_name": ".venv",
   "language": "python",
   "name": "python3"
  },
  "language_info": {
   "codemirror_mode": {
    "name": "ipython",
    "version": 3
   },
   "file_extension": ".py",
   "mimetype": "text/x-python",
   "name": "python",
   "nbconvert_exporter": "python",
   "pygments_lexer": "ipython3",
   "version": "3.9.6"
  }
 },
 "nbformat": 4,
 "nbformat_minor": 2
}
